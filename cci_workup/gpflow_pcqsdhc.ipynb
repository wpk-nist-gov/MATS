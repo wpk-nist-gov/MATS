{
 "cells": [
  {
   "cell_type": "code",
   "execution_count": 1,
   "metadata": {},
   "outputs": [
    {
     "name": "stdout",
     "output_type": "stream",
     "text": [
      "HAPI version: 1.1.0.9.6\n",
      "To get the most up-to-date version please check http://hitran.org/hapi\n",
      "ATTENTION: Python versions of partition sums from TIPS-2017 are now available in HAPI code\n",
      "\n",
      "           It is free to use HAPI. If you use HAPI in your research or software development,\n",
      "           please cite it using the following reference:\n",
      "           R.V. Kochanov, I.E. Gordon, L.S. Rothman, P. Wcislo, C. Hill, J.S. Wilzewski,\n",
      "           HITRAN Application Programming Interface (HAPI): A comprehensive approach\n",
      "           to working with spectroscopic data, J. Quant. Spectrosc. Radiat. Transfer 177, 15-30 (2016)\n",
      "           DOI: 10.1016/j.jqsrt.2016.03.005\n"
     ]
    }
   ],
   "source": [
    "import glob\n",
    "import numpy as np\n",
    "import tensorflow as tf\n",
    "import gpflow\n",
    "\n",
    "from hapi import EnvironmentDependency_Intensity, PYTIPS2017, molecularMass, pcqsdhc\n",
    "\n",
    "import matplotlib.pyplot as plt"
   ]
  },
  {
   "cell_type": "markdown",
   "metadata": {},
   "source": [
    "# Read in some data"
   ]
  },
  {
   "cell_type": "code",
   "execution_count": 2,
   "metadata": {},
   "outputs": [
    {
     "data": {
      "text/plain": [
       "['/Users/jim2/CCI/MATS/MATS/MATS/Examples/A-Band - Experimental Spectra/190513_2per_82_forfit.csv',\n",
       " '/Users/jim2/CCI/MATS/MATS/MATS/Examples/A-Band - Experimental Spectra/190514_2per_126_forfit.csv',\n",
       " '/Users/jim2/CCI/MATS/MATS/MATS/Examples/A-Band - Experimental Spectra/190510_2per_43_forfit.csv',\n",
       " '/Users/jim2/CCI/MATS/MATS/MATS/Examples/A-Band - Experimental Spectra/190510_2per_55_forfit.csv']"
      ]
     },
     "execution_count": 2,
     "metadata": {},
     "output_type": "execute_result"
    }
   ],
   "source": [
    "dat_files = glob.glob('/Users/jim2/CCI/MATS/MATS/MATS/Examples/A-Band - Experimental Spectra/*forfit.csv')\n",
    "dat_files"
   ]
  },
  {
   "cell_type": "code",
   "execution_count": 3,
   "metadata": {},
   "outputs": [],
   "source": [
    "dat = [np.loadtxt(f, delimiter=',', skiprows=1) for f in dat_files]"
   ]
  },
  {
   "cell_type": "code",
   "execution_count": 4,
   "metadata": {},
   "outputs": [],
   "source": [
    "x = [d[:, [3, 10, 11]] for d in dat]\n",
    "for d in x:\n",
    "    d[:, 0] *= (10**6) / 29979245800\n",
    "    d[:, 1] += 273.15\n",
    "    d[:, 2] /= 760.0\n",
    "\n",
    "y = [d[:, 9] for d in dat]"
   ]
  },
  {
   "cell_type": "code",
   "execution_count": 5,
   "metadata": {},
   "outputs": [
    {
     "data": {
      "image/png": "[encoded data removed]",
      "text/plain": [
       "<Figure size 432x288 with 1 Axes>"
      ]
     },
     "metadata": {
      "needs_background": "light"
     },
     "output_type": "display_data"
    }
   ],
   "source": [
    "fig, ax = plt.subplots()\n",
    "for i in range(len(x)):\n",
    "    ax.plot(x[i][:, 0], y[i])\n",
    "plt.show()"
   ]
  },
  {
   "cell_type": "markdown",
   "metadata": {},
   "source": [
    "# Define our lineshape model"
   ]
  },
  {
   "cell_type": "code",
   "execution_count": 6,
   "metadata": {},
   "outputs": [],
   "source": [
    "# ------------------ complex probability function -----------------------\n",
    "def cpf3(X, Y):\n",
    "    # define static data\n",
    "    zone = np.complex128(1.0e0 + 0.0e0j)\n",
    "    zi = np.complex128(0.0e0 + 1.0e0j)\n",
    "    tt = np.float64([0.5e0,1.5e0,2.5e0,3.5e0,4.5e0,5.5e0,6.5e0,7.5e0,8.5e0,9.5e0,10.5e0,11.5e0,12.5e0,13.5e0,14.5e0])\n",
    "    pipwoeronehalf = np.float64(0.564189583547756e0)\n",
    "\n",
    "    zm1 = zone/tf.complex(X, Y) # maybe redundant\n",
    "    zm2 = zm1**2\n",
    "    zsum = zone\n",
    "    zterm = zone\n",
    "\n",
    "    for tt_i in tt:\n",
    "        zterm *= zm2*tt_i\n",
    "        zsum += zterm\n",
    "    \n",
    "    zsum *= zi*zm1*pipwoeronehalf\n",
    "    \n",
    "    return zsum\n",
    "\n",
    "# ------------------ Schreier CPF ------------------------\n",
    "\n",
    "# \"Optimized implementations of rational approximations \n",
    "#  for the Voigt and complex error function\".\n",
    "# Franz Schreier. JQSRT 112 (2011) 1010-10250\n",
    "# doi:10.1016/j.jqsrt.2010.12.010\n",
    "def cef(x,y,N):\n",
    "    # Computes the function w(z) = exp(-zA2) erfc(-iz) using a rational\n",
    "    # series with N terms. It is assumed that Im(z) > 0 or Im(z) = 0.\n",
    "    z = tf.complex(x, y)\n",
    "    M = 2*N; M2 = 2*M; k = np.arange(-M+1,M) #'; # M2 = no. of sampling points.\n",
    "    L = np.sqrt(N/np.sqrt(2)); # Optimal choice of L.\n",
    "    theta = k*np.pi/M; t = L*np.tan(theta/2); # Variables theta and t.\n",
    "    #f = exp(-t.A2)*(LA2+t.A2); f = [0; f]; # Function to be transformed.\n",
    "    f = np.zeros(len(t)+1); f[0] = 0\n",
    "    f[1:] = np.exp(-t**2)*(L**2+t**2)\n",
    "    #f = insert(exp(-t**2)*(L**2+t**2),0,0)\n",
    "    a = np.real(np.fft.fft(np.fft.fftshift(f)))/M2; # Coefficients of transform.\n",
    "    a = np.flipud(a[1:N+1]); # Reorder coefficients.\n",
    "    Z = (L+1.0j*z)/(L-1.0j*z)\n",
    "    p = tf.math.polyval([tf.cast(val, tf.complex128) for val in a.tolist()], Z); # Polynomial evaluation.\n",
    "    #Not sure if above line will work with Tensorflow...\n",
    "    #Need to check because may fail quietly, i.e. break gradient without throwing error\n",
    "    #If can figure out what this whole function is supposed to be doing, though, may be able to just\n",
    "    #directly return w(z)... just need to know what zA2 and iz are...\n",
    "    #Hopefully using tf.math.polyval instead of np.polyval will do the trick.\n",
    "    w = 2*p/(L-1.0j*z)**2+(1/np.sqrt(np.pi))/(L-1.0j*z); # Evaluate w(z).\n",
    "    return w\n",
    "# weideman24 by default    \n",
    "#weideman24 = lambda x,y: cef(x,y,24)\n",
    "#weideman = lambda x,y,n: cef(x,y,n)\n",
    "def hum1_wei(x,y,n=24):\n",
    "    \"\"\"\n",
    "    z = x+1j*y\n",
    "    cerf = 1j*z/sqrt(pi)/(z**2-0.5)\n",
    "    \"\"\"\n",
    "    mask = abs(x)+y<15.0\n",
    "    t = tf.complex(y, -x)\n",
    "    #cerf_false = 1/np.sqrt(np.pi)*t/(0.5+t**2)\n",
    "    #if np.any(mask):\n",
    "    #    w24 = weideman(x[mask],y[mask],n)\n",
    "    #    cerf = tf.dynamics_stitch([np.arange(x.shape[0])[~mask], np.arange(x.shape[0])[mask]],\n",
    "    #                              [cerf_false[~mask], w24])\n",
    "    #else:\n",
    "    #    cerf = cerf_false\n",
    "    #Above is fancy, but seems like below should just work...\n",
    "    #Because in original, output of weideman() is same length as input, which is x and y where mask is True\n",
    "    #So first N values of output should be weideman() of all x and y then with mask applied\n",
    "    #For efficiency, still check for any being True\n",
    "    if tf.reduce_any(mask):\n",
    "        cerf = tf.where(mask, cef(x, y, n), 1/np.sqrt(np.pi)*t/(0.5+t**2))\n",
    "    else:\n",
    "        cerf = 1/np.sqrt(np.pi)*t/(0.5+t**2)\n",
    "    return cerf\n",
    "\n",
    "# ------------------ Hartmann-Tran Profile (HTP) ------------------------\n",
    "# Made compatible with Tensorflow\n",
    "def tf_pcqsdhc(sg0,GamD,Gam0,Gam2,Shift0,Shift2,anuVC,eta,sg):\n",
    "    #-------------------------------------------------\n",
    "    #      \"pCqSDHC\": partially-Correlated quadratic-Speed-Dependent Hard-Collision\n",
    "    #      Subroutine to Compute the complex normalized spectral shape of an \n",
    "    #      isolated line by the pCqSDHC model\n",
    "    #\n",
    "    #      Reference:\n",
    "    #      H. Tran, N.H. Ngo, J.-M. Hartmann.\n",
    "    #      Efficient computation of some speed-dependent isolated line profiles.\n",
    "    #      JQSRT, Volume 129, November 2013, Pages 199–203\n",
    "    #      http://dx.doi.org/10.1016/j.jqsrt.2013.06.015\n",
    "    #\n",
    "    #      Input/Output Parameters of Routine (Arguments or Common)\n",
    "    #      ---------------------------------\n",
    "    #      T          : Temperature in Kelvin (Input).\n",
    "    #      amM1       : Molar mass of the absorber in g/mol(Input).\n",
    "    #      sg0        : Unperturbed line position in cm-1 (Input).\n",
    "    #      GamD       : Doppler HWHM in cm-1 (Input)\n",
    "    #      Gam0       : Speed-averaged line-width in cm-1 (Input).       \n",
    "    #      Gam2       : Speed dependence of the line-width in cm-1 (Input).\n",
    "    #      anuVC      : Velocity-changing frequency in cm-1 (Input).\n",
    "    #      eta        : Correlation parameter, No unit (Input).\n",
    "    #      Shift0     : Speed-averaged line-shift in cm-1 (Input).\n",
    "    #      Shift2     : Speed dependence of the line-shift in cm-1 (Input)       \n",
    "    #      sg         : Current WaveNumber of the Computation in cm-1 (Input).\n",
    "    #\n",
    "    #      Output Quantities (through Common Statements)\n",
    "    #      -----------------\n",
    "    #      LS_pCqSDHC_R: Real part of the normalized spectral shape (cm)\n",
    "    #      LS_pCqSDHC_I: Imaginary part of the normalized spectral shape (cm)\n",
    "    #\n",
    "    #      Called Routines: 'CPF'      (Complex Probability Function)\n",
    "    #      ---------------  'CPF3'      (Complex Probability Function for the region 3)\n",
    "    #\n",
    "    #      Called By: Main Program\n",
    "    #      ---------\n",
    "    #\n",
    "    #     Double Precision Version\n",
    "    #\n",
    "    #-------------------------------------------------\n",
    "    \n",
    "    # sg is the only vector argument which is passed to function\n",
    "    # Just make sure it's a vector\n",
    "    sg = tf.constant(sg)\n",
    "    \n",
    "    #With Tensorflow, can't assign values within tensors, so must stitch together at end\n",
    "    #number_of_points = sg.shape[0]\n",
    "    #Aterm_GLOBAL = np.zeros(number_of_points, dtype=tf.complex128)\n",
    "    #Bterm_GLOBAL = np.zeros(number_of_points, dtype=tf.complex128)\n",
    "    \n",
    "    #Multiplying by tensor of ones to make sure shape is right even if just provide scalars as parameters\n",
    "    cte = tf.ones_like(sg, dtype=tf.complex128) * np.sqrt(np.log(2.0e0))/tf.cast(GamD, tf.complex128)\n",
    "    rpi = np.sqrt(np.pi)\n",
    "\n",
    "    c0 = tf.ones_like(sg, dtype=tf.complex128) * tf.complex(Gam0, Shift0)\n",
    "    c2 = tf.ones_like(sg, dtype=tf.complex128) * tf.complex(Gam2, Shift2)\n",
    "    c0t = tf.ones_like(sg, dtype=tf.complex128) * (1.0e0 - tf.cast(eta, tf.complex128)) * (c0 - 1.5e0 * c2) + tf.cast(anuVC, tf.complex128)\n",
    "    c2t = tf.ones_like(sg, dtype=tf.complex128) * (1.0e0 - tf.cast(eta, tf.complex128)) * c2\n",
    "        \n",
    "    #In Tensorflow cannot do dynamic assignment, so keep track of indices and merge together at end\n",
    "    Aterm_PART1 = tf.constant([], dtype=tf.complex128)\n",
    "    Bterm_PART1 = tf.constant([], dtype=tf.complex128)\n",
    "    merge_inds_PART1 = tf.constant([], dtype=tf.int32)\n",
    "    Aterm_PART2 = tf.constant([], dtype=tf.complex128)\n",
    "    Bterm_PART2 = tf.constant([], dtype=tf.complex128)\n",
    "    merge_inds_PART2 = tf.constant([], dtype=tf.int32)\n",
    "    Aterm_PART3 = tf.constant([], dtype=tf.complex128)\n",
    "    Bterm_PART3 = tf.constant([], dtype=tf.complex128)\n",
    "    merge_inds_PART3 = tf.constant([], dtype=tf.int32)\n",
    "    Aterm_PART4 = tf.constant([], dtype=tf.complex128)\n",
    "    Bterm_PART4 = tf.constant([], dtype=tf.complex128)\n",
    "    merge_inds_PART4 = tf.constant([], dtype=tf.int32)\n",
    "    \n",
    "    # PART1\n",
    "    index_PART1 = (abs(c2t) == 0.0e0)\n",
    "    if tf.reduce_any(index_PART1):\n",
    "        #print('Executing Part 1')\n",
    "        Z1 = ((tf.complex(tf.zeros_like(sg), sg0 - sg) + c0t) * cte)[index_PART1]\n",
    "        xZ1 = -tf.math.imag(Z1)\n",
    "        yZ1 = tf.math.real(Z1)\n",
    "        W1 = hum1_wei(xZ1,yZ1)\n",
    "        Aterm = rpi*cte[index_PART1]*(W1)\n",
    "        index_Z1 = (abs(Z1) <= 4.0e3)\n",
    "        index_NOT_Z1 = ~index_Z1\n",
    "        #if tf.reduce_any(index_Z1):\n",
    "        if tf.reduce_all(index_Z1):\n",
    "            Bterm = rpi*cte[index_PART1]*((1.0e0 - Z1**2)*(W1) + Z1/rpi)\n",
    "        #Original in hapi.py was another if statement... if any(index_NOT_Z1)\n",
    "        #Unless index_Z1 is all true, that overwrites everything\n",
    "        #Not sure if that is the intended behavior, but if it is, accomplish by changing above to if all(index_Z1)\n",
    "        #and changing below to just else\n",
    "        #if tf.reduce_any(index_NOT_Z1): \n",
    "        else:\n",
    "            Bterm = cte[index_PART1]*(rpi*(W1) + 0.5e0/Z1 - 0.75e0/(Z1**3))\n",
    "        merge_inds_PART1 = tf.range(sg.shape[0])[index_PART1]\n",
    "        Aterm_PART1 = Aterm\n",
    "        Bterm_PART1 = Bterm\n",
    "\n",
    "    # PART2, PART3 AND PART4   (PART4 IS A MAIN PART)\n",
    "    # X - vector, Y - scalar\n",
    "    X = (tf.complex(tf.zeros_like(sg), sg0 - sg) + c0t) / c2t\n",
    "    Y = (1.0e0 / ((2.0e0*cte*c2t))**2)\n",
    "    csqrtY = tf.complex(Gam2, -Shift2) / (2.0e0*cte*(1.0e0-tf.cast(eta, tf.complex128)) * tf.cast(Gam2**2 + Shift2**2, tf.complex128))\n",
    "        \n",
    "    index_PART2 = ((abs(X) <= 3.0e-8 * abs(Y)) & ~index_PART1)\n",
    "    index_PART3 = ((abs(Y) <= 1.0e-15 * abs(X)) & ~index_PART2 & ~index_PART1)\n",
    "    index_PART4 = (~(index_PART2 | index_PART3) & ~index_PART1)\n",
    "        \n",
    "    # PART4\n",
    "    if tf.reduce_any(index_PART4):\n",
    "        #print('Executing Part 4')\n",
    "        #X_TMP = X[index_PART4]\n",
    "        Z1 = (tf.sqrt(X + Y) - csqrtY)[index_PART4]\n",
    "        Z2 = Z1 + 2.0e0 * csqrtY[index_PART4]\n",
    "        xZ1 = -tf.math.imag(Z1)\n",
    "        yZ1 =  tf.math.real(Z1)\n",
    "        xZ2 = -tf.math.imag(Z2)\n",
    "        yZ2 =  tf.math.real(Z2)\n",
    "        SZ1 = tf.sqrt(xZ1**2 + yZ1**2)\n",
    "        SZ2 = tf.sqrt(xZ2**2 + yZ2**2)\n",
    "        DSZ = tf.abs(SZ1 - SZ2)\n",
    "        SZmx = tf.maximum(SZ1,SZ2)\n",
    "        SZmn = tf.minimum(SZ1,SZ2)\n",
    "        index_CPF3 = ((DSZ <= 1.0e0) & (SZmx > 8.0e0) & (SZmn <= 8.0e0))\n",
    "        W1_PART4 = tf.where(index_CPF3, cpf3(xZ1, yZ1), hum1_wei(xZ1, yZ1))\n",
    "        W2_PART4 = tf.where(index_CPF3, cpf3(xZ2, yZ2), hum1_wei(xZ2, yZ2))\n",
    "        Aterm = rpi*cte[index_PART4]*((W1_PART4) - (W2_PART4))\n",
    "        Bterm = (-1.0e0 +\n",
    "                  rpi/(2.0e0*csqrtY[index_PART4])*(1.0e0 - Z1**2)*(W1_PART4)-\n",
    "                  rpi/(2.0e0*csqrtY[index_PART4])*(1.0e0 - Z2**2)*(W2_PART4)) / c2t[index_PART4]\n",
    "        merge_inds_PART4 = tf.range(sg.shape[0])[index_PART4]\n",
    "        Aterm_PART4 = Aterm\n",
    "        Bterm_PART4 = Bterm\n",
    "\n",
    "    # PART2\n",
    "    if tf.reduce_any(index_PART2):\n",
    "        #print('Executing Part 2')\n",
    "        #X_TMP = X[index_PART2]\n",
    "        Z1 = ((tf.complex(tf.zeros_like(sg), sg0 - sg) + c0t) * cte)[index_PART2]\n",
    "        Z2 = (tf.sqrt(X + Y) + csqrtY)[index_PART2]\n",
    "        xZ1 = -tf.math.imag(Z1)\n",
    "        yZ1 = tf.math.real(Z1)\n",
    "        xZ2 = -tf.math.imag(Z2)\n",
    "        yZ2 = tf.math.real(Z2)\n",
    "        W1_PART2 = hum1_wei(xZ1,yZ1)\n",
    "        W2_PART2 = hum1_wei(xZ2,yZ2) \n",
    "        Aterm = rpi*cte[index_PART2]*((W1_PART2) - (W2_PART2))\n",
    "        Bterm = (-1.0e0 +\n",
    "                  rpi/(2.0e0*csqrtY[index_PART2])*(1.0e0 - Z1**2)*(W1_PART2)-\n",
    "                  rpi/(2.0e0*csqrtY[index_PART2])*(1.0e0 - Z2**2)*(W2_PART2)) / c2t[index_PART2]\n",
    "        merge_inds_PART2 = tf.range(sg.shape[0])[index_PART2]\n",
    "        Aterm_PART2 = Aterm\n",
    "        Bterm_PART2 = Bterm\n",
    "            \n",
    "    # PART3\n",
    "    if tf.reduce_any(index_PART3):\n",
    "        #print('Executing Part 3')\n",
    "        X_TMP = X[index_PART3]\n",
    "        Z1 = tf.sqrt(X + Y)[index_PART3]\n",
    "        xZ1 = -tf.math.imag(Z1)\n",
    "        yZ1 = tf.math.real(Z1)\n",
    "        W1_PART3 =  hum1_wei(xZ1,yZ1) \n",
    "        index_ABS = (tf.abs(tf.sqrt(X_TMP)) <= 4.0e3)\n",
    "        Wb = hum1_wei(-tf.math.imag(tf.sqrt(X_TMP)), tf.math.real(tf.sqrt(X_TMP))) #Original just had X, not X_TMP, which would break below (multiplication by Wb)\n",
    "        Aterm = tf.where(index_ABS,\n",
    "                         (2.0e0*rpi/c2t[index_PART3])*(1.0e0/rpi - tf.sqrt(X_TMP)*(Wb)),\n",
    "                         (1.0e0/c2t[index_PART3])*(1.0e0/X_TMP - 1.5e0/(X_TMP**2))\n",
    "                        )\n",
    "        Bterm = tf.where(index_ABS,\n",
    "                         (1.0e0/c2t[index_PART3])*(-1.0e0+\n",
    "                                      2.0e0*rpi*(1.0e0 - X_TMP-2.0e0*Y[index_PART3])*(1.0e0/rpi-tf.sqrt(X_TMP)*(Wb))+\n",
    "                                      2.0e0*rpi*tf.sqrt(X_TMP + Y[index_PART3])*(W1_PART3)),\n",
    "                         (1.0e0/c2t[index_PART3])*(-1.0e0 + (1.0e0 - X_TMP - 2.0e0*Y[index_PART3])*\n",
    "                                      (1.0e0/X_TMP - 1.5e0/(X_TMP**2))+\n",
    "                                      #2.0e0*rpi*sqrt(X_TMP + Y)*(W1)) #original, but would fail b/c W1 out of scope\n",
    "                                      2.0e0*rpi*tf.sqrt(X_TMP + Y[index_PART3])*(W1_PART3))\n",
    "                        )\n",
    "        merge_inds_PART3 = tf.range(sg.shape[0])[index_PART3]\n",
    "        Aterm_PART3 = Aterm\n",
    "        Bterm_PART3 = Bterm\n",
    "    \n",
    "    Aterm_GLOBAL = tf.dynamic_stitch([merge_inds_PART1, merge_inds_PART2, merge_inds_PART3, merge_inds_PART4],\n",
    "                                     [Aterm_PART1, Aterm_PART2, Aterm_PART3, Aterm_PART4])\n",
    "    Bterm_GLOBAL = tf.dynamic_stitch([merge_inds_PART1, merge_inds_PART2, merge_inds_PART3, merge_inds_PART4],\n",
    "                                     [Bterm_PART1, Bterm_PART2, Bterm_PART3, Bterm_PART4])\n",
    "            \n",
    "    # common part\n",
    "    LS_pCqSDHC = (1.0e0/np.pi) * (Aterm_GLOBAL / (1.0e0 - (tf.cast(anuVC, tf.complex128)-tf.cast(eta, tf.complex128)*(c0-1.5e0*c2))*Aterm_GLOBAL + tf.cast(eta, tf.complex128)*c2*Bterm_GLOBAL))\n",
    "    #LS_pCqSDHC = tf.reshape(LS_pCqSDHC, (-1, 1))\n",
    "    return tf.math.real(LS_pCqSDHC), tf.math.imag(LS_pCqSDHC)\n"
   ]
  },
  {
   "cell_type": "code",
   "execution_count": 7,
   "metadata": {},
   "outputs": [],
   "source": [
    "#This recreates HTP_from_DF_select() for a single spectra\n",
    "#It does NOT mix spectra, including multiple peaks, so what's in below, will remove one peak when fitting\n",
    "\n",
    "class LineShape(gpflow.mean_functions.MeanFunction):\n",
    "    \n",
    "    def __init__(self, molec_id, iso,\n",
    "                 nu=1.0,\n",
    "                 sw=1.0,\n",
    "                 sw_scale_fac=1e-26,\n",
    "                 elower=1.0,\n",
    "                 gamma0=0.02, n_gamma0=0.63,\n",
    "                 delta0=-0.01, n_delta0=5e-05,\n",
    "                 sd_gamma=0.1, n_gamma2=0.63,\n",
    "                 sd_delta=0.0, n_delta2=0.0,\n",
    "                 nuVC=0.0, n_nuVC=1.0,\n",
    "                 eta=0.0,\n",
    "                 y=0.0,\n",
    "                 mole_frac=0.01949):\n",
    "        #Molecular of interest\n",
    "        self.molec_id = molec_id\n",
    "        self.iso = iso\n",
    "        self.nu = gpflow.Parameter(nu, dtype=tf.float64, name='nu')\n",
    "        self.sw = gpflow.Parameter(sw, dtype=tf.float64, name='sw')\n",
    "        self.sw_scale_fac = sw_scale_fac\n",
    "        self.elower = gpflow.Parameter(elower, dtype=tf.float64, name='elower')\n",
    "        #Diluent - defaults set to match air (or what I think is air)\n",
    "        self.gamma0 = gpflow.Parameter(gamma0, dtype=tf.float64, name='gamma0')\n",
    "        self.n_gamma0 = gpflow.Parameter(n_gamma0, dtype=tf.float64, name='n_gamma0', trainable=False)\n",
    "        self.delta0 = gpflow.Parameter(delta0, dtype=tf.float64, name='delta0')\n",
    "        self.n_delta0 = gpflow.Parameter(n_delta0, dtype=tf.float64, name='n_delta0', trainable=False)\n",
    "        self.sd_gamma = gpflow.Parameter(sd_gamma, dtype=tf.float64, name='sd_gamma')\n",
    "        self.n_gamma2 = gpflow.Parameter(n_gamma2, dtype=tf.float64, name='n_gamma2', trainable=False)\n",
    "        self.sd_delta = gpflow.Parameter(sd_delta, dtype=tf.float64, name='sd_delta')\n",
    "        self.n_delta2 = gpflow.Parameter(n_delta2, dtype=tf.float64, name='n_delta2', trainable=False)\n",
    "        self.nuVC = gpflow.Parameter(nuVC, dtype=tf.float64, name='nuVC')\n",
    "        self.n_nuVC = gpflow.Parameter(n_nuVC, dtype=tf.float64, name='n_nuVC', trainable=False)\n",
    "        self.eta = gpflow.Parameter(eta, dtype=tf.float64, name='eta')\n",
    "        self.y = gpflow.Parameter(y, dtype=tf.float64, name='y')\n",
    "        #Other stuff\n",
    "        self.Tref = 296.0\n",
    "        self.Pref = 1.0\n",
    "        self.mole_frac = mole_frac #Not sure where this comes in for the original MATS code (or natural abundance), but need it for good fits\n",
    "\n",
    "    def get_params_at_TP(self, T, P):\n",
    "        mass = molecularMass(self.molec_id, self.iso) * 1.66053873e-27 * 1000\n",
    "        gammaD = np.sqrt(2*1.380648813E-16*T*np.log(2)/mass/2.99792458e10**2)*self.nu\n",
    "        gamma0 = self.gamma0*(P/self.Pref)*((self.Tref/T)**self.n_gamma0)\n",
    "        shift0 = (self.delta0 + self.n_delta0*(T-self.Tref))*(P/self.Pref)\n",
    "        gamma2 = self.sd_gamma*self.gamma0*(P/self.Pref)*((self.Tref/T)**self.n_gamma2)\n",
    "        shift2 = (self.sd_delta*self.delta0 + self.n_delta2*(T-self.Tref))*(P/self.Pref)\n",
    "        nuVC = self.nuVC*(P/self.Pref)*((self.Tref/T)**self.n_nuVC)\n",
    "        eta = self.eta        \n",
    "        return(gammaD, gamma0, gamma2, shift0, shift2, nuVC, eta)\n",
    "    \n",
    "    def environmentdependency_intensity(self, T):\n",
    "        sigmaT = np.array([PYTIPS2017(self.molec_id, self.iso, tval) for tval in T])\n",
    "        sigmaTref = PYTIPS2017(self.molec_id, self.iso, self.Tref)\n",
    "        #Taken from hapi.py and made compatible with tensorflow\n",
    "        const = np.float64(1.4388028496642257)\n",
    "        ch = tf.exp(-const*self.elower/T)*(1-tf.exp(-const*self.nu/T))\n",
    "        zn = tf.exp(-const*self.elower/self.Tref)*(1-tf.exp(-const*self.nu/self.Tref))\n",
    "        LineIntensity = self.sw_scale_fac*self.sw*sigmaTref/sigmaT*ch/zn\n",
    "        return LineIntensity\n",
    "    \n",
    "    def __call__(self, xTP):\n",
    "        #First column is x, next is T, last is P\n",
    "        xTP = np.array(xTP, dtype=np.float64)\n",
    "        x = xTP[:, 0]\n",
    "        T = xTP[:, 1]\n",
    "        P = xTP[:, 2]\n",
    "        \n",
    "        mol_dens = (P/9.869233e-7)/(1.380648813E-16*T)\n",
    "        line_intensity = self.environmentdependency_intensity(T)\n",
    "        y = self.y*(P/self.Pref)\n",
    "        \n",
    "        params = self.get_params_at_TP(T, P)\n",
    "        \n",
    "        vals_real, vals_imag = tf_pcqsdhc(self.nu, *params, x)\n",
    "        out = mol_dens * self.mole_frac * line_intensity * (vals_real + y*vals_imag)\n",
    "        out *= 1e+06 #Make ppm/cm instead of just 1/cm\n",
    "        out = tf.reshape(out, (-1, 1))\n",
    "        return out\n"
   ]
  },
  {
   "cell_type": "markdown",
   "metadata": {},
   "source": [
    "# Testing code converted from hapi.py"
   ]
  },
  {
   "cell_type": "code",
   "execution_count": 8,
   "metadata": {},
   "outputs": [],
   "source": [
    "#Create a lineshape model just to collect parameters for testing\n",
    "#Also makes sure have GPFlow parameters to test with\n",
    "lineshape = LineShape(7, 1, nu=13156.28, sw=0.00013700000000000005, elower=343.75, sd_gamma=1e+16)"
   ]
  },
  {
   "cell_type": "code",
   "execution_count": 9,
   "metadata": {},
   "outputs": [
    {
     "data": {
      "text/plain": [
       "<tf.Tensor: shape=(4, 1), dtype=float64, numpy=\n",
       "array([[-4.83517823e-022],\n",
       "       [-4.83517823e-022],\n",
       "       [-6.97289551e-126],\n",
       "       [-6.97289551e-126]])>"
      ]
     },
     "execution_count": 9,
     "metadata": {},
     "output_type": "execute_result"
    }
   ],
   "source": [
    "#By changing inputs, can check different \"parts\" of pcqsdhc, like part1, part2, part3, and part4\n",
    "lineshape(np.array([[0.1, 2.97876013e+02, 4.60173207e-02],\n",
    "                    [2.0, 2.97876013e+02, 4.60173207e-02],\n",
    "                    [1.0, 2.0, 4.60173207e-02],\n",
    "                    [2.0, 2.0, 4.60173207e-02]]))\n",
    "#lineshape(x[0])"
   ]
  },
  {
   "cell_type": "code",
   "execution_count": 10,
   "metadata": {},
   "outputs": [
    {
     "data": {
      "text/plain": [
       "(array([-1.59051633e-14, -1.59051633e-14, -1.59051633e-14, -1.59051633e-14,\n",
       "        -1.59051633e-14, -1.59051633e-14, -1.59051633e-14, -1.59051633e-14,\n",
       "        -1.59051633e-14, -1.59051633e-14, -1.59051633e-14, -1.59051633e-14,\n",
       "        -1.59051633e-14, -1.59051633e-14, -1.59051633e-14, -1.59051633e-14,\n",
       "        -1.59051633e-14, -1.59051633e-14, -1.59051633e-14, -1.59051633e-14,\n",
       "        -1.59051633e-14, -1.59051633e-14, -1.59051633e-14, -1.59051633e-14,\n",
       "        -1.59051633e-14, -1.59051633e-14, -1.59051633e-14, -1.59051633e-14,\n",
       "        -1.59051633e-14, -1.59051633e-14, -1.59051633e-14, -1.59051633e-14,\n",
       "        -1.59051633e-14, -1.59051633e-14, -1.59051633e-14, -1.59051633e-14,\n",
       "        -1.59051633e-14, -1.59051633e-14, -1.59051633e-14, -1.59051633e-14,\n",
       "        -1.59051633e-14, -1.59051633e-14, -1.59051633e-14, -1.59051633e-14,\n",
       "        -1.59051633e-14, -1.59051633e-14, -1.59051633e-14, -1.59051633e-14,\n",
       "        -1.59051633e-14, -1.59051633e-14, -1.59051633e-14, -1.59051633e-14,\n",
       "        -1.59051633e-14, -1.59051633e-14, -1.59051633e-14, -1.59051633e-14,\n",
       "        -1.59051633e-14, -1.59051633e-14, -1.59051633e-14, -1.59051633e-14,\n",
       "        -1.59051633e-14, -1.59051633e-14, -1.59051633e-14, -1.59051633e-14,\n",
       "        -1.59051633e-14, -1.59051633e-14, -1.59051633e-14, -1.59051633e-14,\n",
       "        -1.59051633e-14, -1.59051633e-14, -1.59051633e-14, -1.59051633e-14,\n",
       "        -1.59051633e-14, -1.59051633e-14, -1.59051633e-14, -1.59051633e-14,\n",
       "        -1.59051633e-14, -1.59051633e-14, -1.59051633e-14, -1.59051633e-14,\n",
       "        -1.59051633e-14, -1.59051633e-14, -1.59051633e-14, -1.59051633e-14,\n",
       "        -1.59051633e-14, -1.59051633e-14, -1.59051633e-14, -1.59051633e-14,\n",
       "        -1.59051633e-14, -1.59051633e-14, -1.59051633e-14, -1.59051633e-14,\n",
       "        -1.59051633e-14, -1.59051633e-14, -1.59051633e-14, -1.59051633e-14,\n",
       "        -1.59051633e-14, -1.59051633e-14, -1.59051633e-14, -1.59051633e-14,\n",
       "        -1.59051633e-14, -1.59051633e-14, -1.59051633e-14, -1.59051633e-14,\n",
       "        -1.59051633e-14, -1.59051633e-14, -1.59051633e-14, -1.59051633e-14,\n",
       "        -1.59051633e-14, -1.59051633e-14, -1.59051633e-14, -1.59051633e-14,\n",
       "        -1.59051633e-14, -1.59051633e-14, -1.59051633e-14, -1.59051633e-14,\n",
       "        -1.59051633e-14, -1.59051633e-14, -1.59051633e-14, -1.59051633e-14,\n",
       "        -1.59051633e-14, -1.59051633e-14, -1.59051633e-14, -1.59051633e-14,\n",
       "        -1.59051633e-14, -1.59051633e-14, -1.59051633e-14, -1.59051633e-14,\n",
       "        -1.59051633e-14, -1.59051633e-14, -1.59051633e-14, -1.59051633e-14,\n",
       "        -1.59051633e-14, -1.59051633e-14, -1.59051633e-14, -1.59051633e-14,\n",
       "        -1.59051633e-14, -1.59051633e-14, -1.59051633e-14, -1.59051633e-14,\n",
       "        -1.59051633e-14, -1.59051633e-14, -1.59051633e-14, -1.59051633e-14,\n",
       "        -1.59051633e-14, -1.59051633e-14, -1.59051633e-14, -1.59051633e-14,\n",
       "        -1.59051633e-14, -1.59051633e-14, -1.59051633e-14, -1.59051633e-14,\n",
       "        -1.59051633e-14, -1.59051633e-14, -1.59051633e-14, -1.59051633e-14,\n",
       "        -1.59051633e-14, -1.59051633e-14, -1.59051633e-14, -1.59051633e-14,\n",
       "        -1.59051633e-14, -1.59051633e-14, -1.59051633e-14, -1.59051633e-14,\n",
       "        -1.59051633e-14, -1.59051633e-14, -1.59051633e-14, -1.59051633e-14,\n",
       "        -1.59051633e-14, -1.59051633e-14, -1.59051633e-14, -1.59051633e-14,\n",
       "        -1.59051633e-14, -1.59051633e-14, -1.59051633e-14, -1.59051633e-14,\n",
       "        -1.59051633e-14, -1.59051633e-14, -1.59051633e-14, -1.59051633e-14,\n",
       "        -1.59051633e-14, -1.59051633e-14, -1.59051633e-14, -1.59051633e-14,\n",
       "        -1.59051633e-14, -1.59051633e-14, -1.59051633e-14, -1.59051633e-14,\n",
       "        -1.59051633e-14, -1.59051633e-14, -1.59051633e-14, -1.59051633e-14,\n",
       "        -1.59051633e-14, -1.59051633e-14, -1.59051633e-14, -1.59051633e-14,\n",
       "        -1.59051633e-14, -1.59051633e-14, -1.59051633e-14, -1.59051633e-14,\n",
       "        -1.59051633e-14, -1.59051633e-14, -1.59051633e-14, -1.59051633e-14,\n",
       "        -1.59051633e-14, -1.59051633e-14, -1.59051633e-14, -1.59051633e-14,\n",
       "        -1.59051633e-14, -1.59051633e-14, -1.59051633e-14, -1.59051633e-14,\n",
       "        -1.59051633e-14, -1.59051633e-14, -1.59051633e-14, -1.59051633e-14,\n",
       "        -1.59051633e-14, -1.59051633e-14, -1.59051633e-14, -1.59051633e-14,\n",
       "        -1.59051633e-14, -1.59051633e-14, -1.59051633e-14, -1.59051633e-14,\n",
       "        -1.59051633e-14, -1.59051633e-14, -1.59051633e-14, -1.59051633e-14,\n",
       "        -1.59051633e-14, -1.59051633e-14, -1.59051633e-14, -1.59051633e-14,\n",
       "        -1.59051633e-14, -1.59051633e-14, -1.59051633e-14, -1.59051633e-14,\n",
       "        -1.59051633e-14]),\n",
       " array([-3.36384711e-14, -3.36384711e-14, -3.36384711e-14, -3.36384711e-14,\n",
       "        -3.36384711e-14, -3.36384711e-14, -3.36384711e-14, -3.36384711e-14,\n",
       "        -3.36384711e-14, -3.36384711e-14, -3.36384711e-14, -3.36384711e-14,\n",
       "        -3.36384711e-14, -3.36384711e-14, -3.36384711e-14, -3.36384711e-14,\n",
       "        -3.36384711e-14, -3.36384711e-14, -3.36384711e-14, -3.36384711e-14,\n",
       "        -3.36384711e-14, -3.36384711e-14, -3.36384711e-14, -3.36384711e-14,\n",
       "        -3.36384711e-14, -3.36384711e-14, -3.36384711e-14, -3.36384711e-14,\n",
       "        -3.36384711e-14, -3.36384711e-14, -3.36384711e-14, -3.36384711e-14,\n",
       "        -3.36384711e-14, -3.36384711e-14, -3.36384711e-14, -3.36384711e-14,\n",
       "        -3.36384711e-14, -3.36384711e-14, -3.36384711e-14, -3.36384711e-14,\n",
       "        -3.36384711e-14, -3.36384711e-14, -3.36384711e-14, -3.36384711e-14,\n",
       "        -3.36384711e-14, -3.36384711e-14, -3.36384711e-14, -3.36384711e-14,\n",
       "        -3.36384711e-14, -3.36384711e-14, -3.36384711e-14, -3.36384711e-14,\n",
       "        -3.36384711e-14, -3.36384711e-14, -3.36384711e-14, -3.36384711e-14,\n",
       "        -3.36384711e-14, -3.36384711e-14, -3.36384711e-14, -3.36384711e-14,\n",
       "        -3.36384711e-14, -3.36384711e-14, -3.36384711e-14, -3.36384711e-14,\n",
       "        -3.36384711e-14, -3.36384711e-14, -3.36384711e-14, -3.36384711e-14,\n",
       "        -3.36384711e-14, -3.36384711e-14, -3.36384711e-14, -3.36384711e-14,\n",
       "        -3.36384711e-14, -3.36384711e-14, -3.36384711e-14, -3.36384711e-14,\n",
       "        -3.36384711e-14, -3.36384711e-14, -3.36384711e-14, -3.36384711e-14,\n",
       "        -3.36384711e-14, -3.36384711e-14, -3.36384711e-14, -3.36384711e-14,\n",
       "        -3.36384711e-14, -3.36384711e-14, -3.36384711e-14, -3.36384711e-14,\n",
       "        -3.36384711e-14, -3.36384711e-14, -3.36384711e-14, -3.36384711e-14,\n",
       "        -3.36384711e-14, -3.36384711e-14, -3.36384711e-14, -3.36384711e-14,\n",
       "        -3.36384711e-14, -3.36384711e-14, -3.36384711e-14,  3.36384711e-14,\n",
       "         3.36384711e-14,  3.36384711e-14,  3.36384711e-14,  3.36384711e-14,\n",
       "         3.36384711e-14,  3.36384711e-14,  3.36384711e-14,  3.36384711e-14,\n",
       "         3.36384711e-14,  3.36384711e-14,  3.36384711e-14,  3.36384711e-14,\n",
       "         3.36384711e-14,  3.36384711e-14,  3.36384711e-14,  3.36384711e-14,\n",
       "         3.36384711e-14,  3.36384711e-14,  3.36384711e-14,  3.36384711e-14,\n",
       "         3.36384711e-14,  3.36384711e-14,  3.36384711e-14,  3.36384711e-14,\n",
       "         3.36384711e-14,  3.36384711e-14,  3.36384711e-14,  3.36384711e-14,\n",
       "         3.36384711e-14,  3.36384711e-14,  3.36384711e-14,  3.36384711e-14,\n",
       "         3.36384711e-14,  3.36384711e-14,  3.36384711e-14,  3.36384711e-14,\n",
       "         3.36384711e-14,  3.36384711e-14,  3.36384711e-14,  3.36384711e-14,\n",
       "         3.36384711e-14,  3.36384711e-14,  3.36384711e-14,  3.36384711e-14,\n",
       "         3.36384711e-14,  3.36384711e-14,  3.36384711e-14,  3.36384711e-14,\n",
       "         3.36384711e-14,  3.36384711e-14,  3.36384711e-14,  3.36384711e-14,\n",
       "         3.36384711e-14,  3.36384711e-14,  3.36384711e-14,  3.36384711e-14,\n",
       "         3.36384711e-14,  3.36384711e-14,  3.36384711e-14,  3.36384711e-14,\n",
       "         3.36384711e-14,  3.36384711e-14,  3.36384711e-14,  3.36384711e-14,\n",
       "         3.36384711e-14,  3.36384711e-14,  3.36384711e-14,  3.36384711e-14,\n",
       "         3.36384711e-14,  3.36384711e-14,  3.36384711e-14,  3.36384711e-14,\n",
       "         3.36384711e-14,  3.36384711e-14,  3.36384711e-14,  3.36384711e-14,\n",
       "         3.36384711e-14,  3.36384711e-14,  3.36384711e-14,  3.36384711e-14,\n",
       "         3.36384711e-14,  3.36384711e-14,  3.36384711e-14,  3.36384711e-14,\n",
       "         3.36384711e-14,  3.36384711e-14,  3.36384711e-14,  3.36384711e-14,\n",
       "         3.36384711e-14,  3.36384711e-14,  3.36384711e-14,  3.36384711e-14,\n",
       "         3.36384711e-14,  3.36384711e-14,  3.36384711e-14,  3.36384711e-14,\n",
       "         3.36384711e-14,  3.36384711e-14,  3.36384711e-14,  3.36384711e-14,\n",
       "         3.36384711e-14,  3.36384711e-14,  3.36384711e-14,  3.36384711e-14,\n",
       "         3.36384711e-14,  3.36384711e-14,  3.36384711e-14,  3.36384711e-14,\n",
       "         3.36384711e-14,  3.36384711e-14,  3.36384711e-14,  3.36384711e-14,\n",
       "         3.36384711e-14,  3.36384711e-14,  3.36384711e-14,  3.36384711e-14,\n",
       "         3.36384711e-14,  3.36384711e-14,  3.36384711e-14,  3.36384711e-14,\n",
       "         3.36384711e-14,  3.36384711e-14,  3.36384711e-14,  3.36384711e-14,\n",
       "         3.36384711e-14,  3.36384711e-14,  3.36384711e-14,  3.36384711e-14,\n",
       "         3.36384711e-14,  3.36384711e-14,  3.36384711e-14,  3.36384711e-14,\n",
       "         3.36384711e-14,  3.36384711e-14,  3.36384711e-14,  3.36384711e-14,\n",
       "         3.36384711e-14]))"
      ]
     },
     "execution_count": 10,
     "metadata": {},
     "output_type": "execute_result"
    }
   ],
   "source": [
    "#Compare output of original function in pcqsdhc to our tensorflow implementation\n",
    "pcqsdhc(lineshape.nu.numpy(),\n",
    "        *[p.numpy() for p in lineshape.get_params_at_TP(x[0][0, 1], x[0][0, 2])],\n",
    "        x[0][:, 0])"
   ]
  },
  {
   "cell_type": "code",
   "execution_count": 11,
   "metadata": {},
   "outputs": [
    {
     "data": {
      "text/plain": [
       "(<tf.Tensor: shape=(237,), dtype=float64, numpy=\n",
       " array([-1.59051639e-14, -1.59051639e-14, -1.59051639e-14, -1.59051639e-14,\n",
       "        -1.59051639e-14, -1.59051639e-14, -1.59051639e-14, -1.59051639e-14,\n",
       "        -1.59051639e-14, -1.59051639e-14, -1.59051639e-14, -1.59051639e-14,\n",
       "        -1.59051639e-14, -1.59051639e-14, -1.59051639e-14, -1.59051639e-14,\n",
       "        -1.59051639e-14, -1.59051639e-14, -1.59051639e-14, -1.59051639e-14,\n",
       "        -1.59051639e-14, -1.59051639e-14, -1.59051639e-14, -1.59051639e-14,\n",
       "        -1.59051639e-14, -1.59051639e-14, -1.59051639e-14, -1.59051639e-14,\n",
       "        -1.59051639e-14, -1.59051639e-14, -1.59051639e-14, -1.59051639e-14,\n",
       "        -1.59051639e-14, -1.59051639e-14, -1.59051639e-14, -1.59051639e-14,\n",
       "        -1.59051639e-14, -1.59051639e-14, -1.59051639e-14, -1.59051639e-14,\n",
       "        -1.59051639e-14, -1.59051639e-14, -1.59051639e-14, -1.59051639e-14,\n",
       "        -1.59051639e-14, -1.59051639e-14, -1.59051639e-14, -1.59051639e-14,\n",
       "        -1.59051639e-14, -1.59051639e-14, -1.59051639e-14, -1.59051639e-14,\n",
       "        -1.59051639e-14, -1.59051639e-14, -1.59051639e-14, -1.59051639e-14,\n",
       "        -1.59051639e-14, -1.59051639e-14, -1.59051639e-14, -1.59051639e-14,\n",
       "        -1.59051639e-14, -1.59051639e-14, -1.59051639e-14, -1.59051639e-14,\n",
       "        -1.59051639e-14, -1.59051639e-14, -1.59051639e-14, -1.59051639e-14,\n",
       "        -1.59051639e-14, -1.59051639e-14, -1.59051639e-14, -1.59051639e-14,\n",
       "        -1.59051639e-14, -1.59051639e-14, -1.59051639e-14, -1.59051639e-14,\n",
       "        -1.59051639e-14, -1.59051639e-14, -1.59051639e-14, -1.59051639e-14,\n",
       "        -1.59051639e-14, -1.59051639e-14, -1.59051639e-14, -1.59051639e-14,\n",
       "        -1.59051639e-14, -1.59051639e-14, -1.59051639e-14, -1.59051639e-14,\n",
       "        -1.59051639e-14, -1.59051639e-14, -1.59051639e-14, -1.59051639e-14,\n",
       "        -1.59051639e-14, -1.59051639e-14, -1.59051639e-14, -1.59051639e-14,\n",
       "        -1.59051639e-14, -1.59051639e-14, -1.59051639e-14, -1.59051639e-14,\n",
       "        -1.59051639e-14, -1.59051639e-14, -1.59051639e-14, -1.59051639e-14,\n",
       "        -1.59051639e-14, -1.59051639e-14, -1.59051639e-14, -1.59051639e-14,\n",
       "        -1.59051639e-14, -1.59051639e-14, -1.59051639e-14, -1.59051639e-14,\n",
       "        -1.59051639e-14, -1.59051639e-14, -1.59051639e-14, -1.59051639e-14,\n",
       "        -1.59051639e-14, -1.59051639e-14, -1.59051639e-14, -1.59051639e-14,\n",
       "        -1.59051639e-14, -1.59051639e-14, -1.59051639e-14, -1.59051639e-14,\n",
       "        -1.59051639e-14, -1.59051639e-14, -1.59051639e-14, -1.59051639e-14,\n",
       "        -1.59051639e-14, -1.59051639e-14, -1.59051639e-14, -1.59051639e-14,\n",
       "        -1.59051639e-14, -1.59051639e-14, -1.59051639e-14, -1.59051639e-14,\n",
       "        -1.59051639e-14, -1.59051639e-14, -1.59051639e-14, -1.59051639e-14,\n",
       "        -1.59051639e-14, -1.59051639e-14, -1.59051639e-14, -1.59051639e-14,\n",
       "        -1.59051639e-14, -1.59051639e-14, -1.59051639e-14, -1.59051639e-14,\n",
       "        -1.59051639e-14, -1.59051639e-14, -1.59051639e-14, -1.59051639e-14,\n",
       "        -1.59051639e-14, -1.59051639e-14, -1.59051639e-14, -1.59051639e-14,\n",
       "        -1.59051639e-14, -1.59051639e-14, -1.59051639e-14, -1.59051639e-14,\n",
       "        -1.59051639e-14, -1.59051639e-14, -1.59051639e-14, -1.59051639e-14,\n",
       "        -1.59051639e-14, -1.59051639e-14, -1.59051639e-14, -1.59051639e-14,\n",
       "        -1.59051639e-14, -1.59051639e-14, -1.59051639e-14, -1.59051639e-14,\n",
       "        -1.59051639e-14, -1.59051639e-14, -1.59051639e-14, -1.59051639e-14,\n",
       "        -1.59051639e-14, -1.59051639e-14, -1.59051639e-14, -1.59051639e-14,\n",
       "        -1.59051639e-14, -1.59051639e-14, -1.59051639e-14, -1.59051639e-14,\n",
       "        -1.59051639e-14, -1.59051639e-14, -1.59051639e-14, -1.59051639e-14,\n",
       "        -1.59051639e-14, -1.59051639e-14, -1.59051639e-14, -1.59051639e-14,\n",
       "        -1.59051639e-14, -1.59051639e-14, -1.59051639e-14, -1.59051639e-14,\n",
       "        -1.59051639e-14, -1.59051639e-14, -1.59051639e-14, -1.59051639e-14,\n",
       "        -1.59051639e-14, -1.59051639e-14, -1.59051639e-14, -1.59051639e-14,\n",
       "        -1.59051639e-14, -1.59051639e-14, -1.59051639e-14, -1.59051639e-14,\n",
       "        -1.59051639e-14, -1.59051639e-14, -1.59051639e-14, -1.59051639e-14,\n",
       "        -1.59051639e-14, -1.59051639e-14, -1.59051639e-14, -1.59051639e-14,\n",
       "        -1.59051639e-14, -1.59051639e-14, -1.59051639e-14, -1.59051639e-14,\n",
       "        -1.59051639e-14, -1.59051639e-14, -1.59051639e-14, -1.59051639e-14,\n",
       "        -1.59051639e-14, -1.59051639e-14, -1.59051639e-14, -1.59051639e-14,\n",
       "        -1.59051639e-14, -1.59051639e-14, -1.59051639e-14, -1.59051639e-14,\n",
       "        -1.59051639e-14, -1.59051639e-14, -1.59051639e-14, -1.59051639e-14,\n",
       "        -1.59051639e-14])>,\n",
       " <tf.Tensor: shape=(237,), dtype=float64, numpy=\n",
       " array([-3.36384725e-14, -3.36384725e-14, -3.36384725e-14, -3.36384725e-14,\n",
       "        -3.36384725e-14, -3.36384725e-14, -3.36384725e-14, -3.36384725e-14,\n",
       "        -3.36384725e-14, -3.36384725e-14, -3.36384725e-14, -3.36384725e-14,\n",
       "        -3.36384725e-14, -3.36384725e-14, -3.36384725e-14, -3.36384725e-14,\n",
       "        -3.36384725e-14, -3.36384725e-14, -3.36384725e-14, -3.36384725e-14,\n",
       "        -3.36384725e-14, -3.36384725e-14, -3.36384725e-14, -3.36384725e-14,\n",
       "        -3.36384725e-14, -3.36384725e-14, -3.36384725e-14, -3.36384725e-14,\n",
       "        -3.36384725e-14, -3.36384725e-14, -3.36384725e-14, -3.36384725e-14,\n",
       "        -3.36384725e-14, -3.36384725e-14, -3.36384725e-14, -3.36384725e-14,\n",
       "        -3.36384725e-14, -3.36384725e-14, -3.36384725e-14, -3.36384725e-14,\n",
       "        -3.36384725e-14, -3.36384725e-14, -3.36384725e-14, -3.36384725e-14,\n",
       "        -3.36384725e-14, -3.36384725e-14, -3.36384725e-14, -3.36384725e-14,\n",
       "        -3.36384725e-14, -3.36384725e-14, -3.36384725e-14, -3.36384725e-14,\n",
       "        -3.36384725e-14, -3.36384725e-14, -3.36384725e-14, -3.36384725e-14,\n",
       "        -3.36384725e-14, -3.36384725e-14, -3.36384725e-14, -3.36384725e-14,\n",
       "        -3.36384725e-14, -3.36384725e-14, -3.36384725e-14, -3.36384725e-14,\n",
       "        -3.36384725e-14, -3.36384725e-14, -3.36384725e-14, -3.36384725e-14,\n",
       "        -3.36384725e-14, -3.36384725e-14, -3.36384725e-14, -3.36384725e-14,\n",
       "        -3.36384725e-14, -3.36384725e-14, -3.36384725e-14, -3.36384725e-14,\n",
       "        -3.36384725e-14, -3.36384725e-14, -3.36384725e-14, -3.36384725e-14,\n",
       "        -3.36384725e-14, -3.36384725e-14, -3.36384725e-14, -3.36384725e-14,\n",
       "        -3.36384725e-14, -3.36384725e-14, -3.36384725e-14, -3.36384725e-14,\n",
       "        -3.36384725e-14, -3.36384725e-14, -3.36384725e-14, -3.36384725e-14,\n",
       "        -3.36384725e-14, -3.36384725e-14, -3.36384725e-14, -3.36384725e-14,\n",
       "        -3.36384725e-14, -3.36384725e-14, -3.36384725e-14,  3.36384725e-14,\n",
       "         3.36384725e-14,  3.36384725e-14,  3.36384725e-14,  3.36384725e-14,\n",
       "         3.36384725e-14,  3.36384725e-14,  3.36384725e-14,  3.36384725e-14,\n",
       "         3.36384725e-14,  3.36384725e-14,  3.36384725e-14,  3.36384725e-14,\n",
       "         3.36384725e-14,  3.36384725e-14,  3.36384725e-14,  3.36384725e-14,\n",
       "         3.36384725e-14,  3.36384725e-14,  3.36384725e-14,  3.36384725e-14,\n",
       "         3.36384725e-14,  3.36384725e-14,  3.36384725e-14,  3.36384725e-14,\n",
       "         3.36384725e-14,  3.36384725e-14,  3.36384725e-14,  3.36384725e-14,\n",
       "         3.36384725e-14,  3.36384725e-14,  3.36384725e-14,  3.36384725e-14,\n",
       "         3.36384725e-14,  3.36384725e-14,  3.36384725e-14,  3.36384725e-14,\n",
       "         3.36384725e-14,  3.36384725e-14,  3.36384725e-14,  3.36384725e-14,\n",
       "         3.36384725e-14,  3.36384725e-14,  3.36384725e-14,  3.36384725e-14,\n",
       "         3.36384725e-14,  3.36384725e-14,  3.36384725e-14,  3.36384725e-14,\n",
       "         3.36384725e-14,  3.36384725e-14,  3.36384725e-14,  3.36384725e-14,\n",
       "         3.36384725e-14,  3.36384725e-14,  3.36384725e-14,  3.36384725e-14,\n",
       "         3.36384725e-14,  3.36384725e-14,  3.36384725e-14,  3.36384725e-14,\n",
       "         3.36384725e-14,  3.36384725e-14,  3.36384725e-14,  3.36384725e-14,\n",
       "         3.36384725e-14,  3.36384725e-14,  3.36384725e-14,  3.36384725e-14,\n",
       "         3.36384725e-14,  3.36384725e-14,  3.36384725e-14,  3.36384725e-14,\n",
       "         3.36384725e-14,  3.36384725e-14,  3.36384725e-14,  3.36384725e-14,\n",
       "         3.36384725e-14,  3.36384725e-14,  3.36384725e-14,  3.36384725e-14,\n",
       "         3.36384725e-14,  3.36384725e-14,  3.36384725e-14,  3.36384725e-14,\n",
       "         3.36384725e-14,  3.36384725e-14,  3.36384725e-14,  3.36384725e-14,\n",
       "         3.36384725e-14,  3.36384725e-14,  3.36384725e-14,  3.36384725e-14,\n",
       "         3.36384725e-14,  3.36384725e-14,  3.36384725e-14,  3.36384725e-14,\n",
       "         3.36384725e-14,  3.36384725e-14,  3.36384725e-14,  3.36384725e-14,\n",
       "         3.36384725e-14,  3.36384725e-14,  3.36384725e-14,  3.36384725e-14,\n",
       "         3.36384725e-14,  3.36384725e-14,  3.36384725e-14,  3.36384725e-14,\n",
       "         3.36384725e-14,  3.36384725e-14,  3.36384725e-14,  3.36384725e-14,\n",
       "         3.36384725e-14,  3.36384725e-14,  3.36384725e-14,  3.36384725e-14,\n",
       "         3.36384725e-14,  3.36384725e-14,  3.36384725e-14,  3.36384725e-14,\n",
       "         3.36384725e-14,  3.36384725e-14,  3.36384725e-14,  3.36384725e-14,\n",
       "         3.36384725e-14,  3.36384725e-14,  3.36384725e-14,  3.36384725e-14,\n",
       "         3.36384725e-14,  3.36384725e-14,  3.36384725e-14,  3.36384725e-14,\n",
       "         3.36384725e-14,  3.36384725e-14,  3.36384725e-14,  3.36384725e-14,\n",
       "         3.36384725e-14])>)"
      ]
     },
     "execution_count": 11,
     "metadata": {},
     "output_type": "execute_result"
    }
   ],
   "source": [
    "tf_pcqsdhc(lineshape.nu.numpy(),\n",
    "           *[p.numpy() for p in lineshape.get_params_at_TP(x[0][0, 1], x[0][0, 2])],\n",
    "           x[0][:, 0])"
   ]
  },
  {
   "cell_type": "code",
   "execution_count": 12,
   "metadata": {},
   "outputs": [],
   "source": [
    "#Compare output for all functions we converted from hapi.py\n",
    "from hapi import hum1_wei as hapi_hum1_wei\n",
    "from hapi import cpf3 as hapi_cpf3"
   ]
  },
  {
   "cell_type": "code",
   "execution_count": 13,
   "metadata": {},
   "outputs": [
    {
     "data": {
      "text/plain": [
       "<tf.Tensor: shape=(1,), dtype=complex128, numpy=array([0.30474421+0.20821894j])>"
      ]
     },
     "execution_count": 13,
     "metadata": {},
     "output_type": "execute_result"
    }
   ],
   "source": [
    "hum1_wei(tf.cast(np.array([1.0]), tf.float64), tf.cast(np.array([1.0]), tf.float64), 24)"
   ]
  },
  {
   "cell_type": "code",
   "execution_count": 14,
   "metadata": {},
   "outputs": [
    {
     "data": {
      "text/plain": [
       "(array([0.30474421]), array([0.20821894]))"
      ]
     },
     "execution_count": 14,
     "metadata": {},
     "output_type": "execute_result"
    }
   ],
   "source": [
    "hapi_hum1_wei(np.array([1.0]), np.array([1.0]), 24)"
   ]
  },
  {
   "cell_type": "code",
   "execution_count": 15,
   "metadata": {},
   "outputs": [
    {
     "data": {
      "text/plain": [
       "<tf.Tensor: shape=(1,), dtype=complex128, numpy=array([-1813146.53894845+1374805.67620273j])>"
      ]
     },
     "execution_count": 15,
     "metadata": {},
     "output_type": "execute_result"
    }
   ],
   "source": [
    "cpf3(tf.cast([1.0], tf.float64), tf.cast([1.0], tf.float64))"
   ]
  },
  {
   "cell_type": "code",
   "execution_count": 16,
   "metadata": {},
   "outputs": [
    {
     "data": {
      "text/plain": [
       "(array([-1813146.53894845]), array([1374805.67620273]))"
      ]
     },
     "execution_count": 16,
     "metadata": {},
     "output_type": "execute_result"
    }
   ],
   "source": [
    "hapi_cpf3(1.0, 1.0)"
   ]
  },
  {
   "cell_type": "code",
   "execution_count": 17,
   "metadata": {},
   "outputs": [
    {
     "name": "stdout",
     "output_type": "stream",
     "text": [
      "(<tf.Tensor: shape=(), dtype=float64, numpy=-1.3346999786606265e-34>, <tf.Tensor: shape=(), dtype=float64, numpy=-3.508630489640357e-24>, <tf.Tensor: shape=(), dtype=float64, numpy=-2.6481536735324493e-33>, <tf.Tensor: shape=(), dtype=float64, numpy=5.729687828489807e-18>, <tf.Tensor: shape=(), dtype=float64, numpy=-2.9004295719667568e-33>, <tf.Tensor: shape=(), dtype=float64, numpy=-4.584487089467313e-34>, <tf.Tensor: shape=(), dtype=float64, numpy=-2.002050090383559e-36>, <tf.Tensor: shape=(), dtype=float64, numpy=1.1459375656979613e-35>, <tf.Tensor: shape=(), dtype=float64, numpy=-8.364507778817757e-16>, <tf.Tensor: shape=(), dtype=float64, numpy=1.8352570152310655e-21>)\n"
     ]
    }
   ],
   "source": [
    "#Now check if can compute gradients...\n",
    "with tf.GradientTape() as tape:\n",
    "    alpha = lineshape(x[0])\n",
    "    grads = tape.gradient(alpha, lineshape.trainable_variables)\n",
    "    print(grads)"
   ]
  },
  {
   "cell_type": "markdown",
   "metadata": {},
   "source": [
    "# Example fitting with GPR model"
   ]
  },
  {
   "cell_type": "code",
   "execution_count": 18,
   "metadata": {},
   "outputs": [
    {
     "name": "stdout",
     "output_type": "stream",
     "text": [
      "(<tf.Variable 'gamma0:0' shape=() dtype=float64, numpy=0.02>, <tf.Variable 'sd_gamma:0' shape=() dtype=float64, numpy=0.1>)\n"
     ]
    }
   ],
   "source": [
    "#Test out actually fitting some parameters with a GPFlow model\n",
    "lineshape = LineShape(7, 1, nu=13156.28, sw=4.799, elower=343.75, sw_scale_fac=1e-24,\n",
    "                      delta0=-0.007967, n_delta0=2.4e-05,\n",
    "                      n_gamma0=0.81, n_gamma2=0.81,\n",
    "                      #gamma0=0.04487, sd_gamma=0.11240, #These are the optimized values of these parameters from MATS\n",
    "                     )\n",
    "\n",
    "#Will only optimize gamma0 and sd_gamma according to example\n",
    "gpflow.set_trainable(lineshape.nu, False)\n",
    "gpflow.set_trainable(lineshape.sw, False)\n",
    "gpflow.set_trainable(lineshape.elower, False)\n",
    "gpflow.set_trainable(lineshape.y, False)\n",
    "gpflow.set_trainable(lineshape.eta, False)\n",
    "gpflow.set_trainable(lineshape.sd_delta, False)\n",
    "gpflow.set_trainable(lineshape.nuVC, False)\n",
    "gpflow.set_trainable(lineshape.delta0, False)\n",
    "print(lineshape.trainable_variables)"
   ]
  },
  {
   "cell_type": "code",
   "execution_count": 19,
   "metadata": {},
   "outputs": [],
   "source": [
    "kern = gpflow.kernels.SquaredExponential(lengthscales=[1.0, 1.0, 1.0])\n",
    "\n",
    "#Lineshape model defined above only handles a single peak, but the data has two peaks\n",
    "#Just remove the upper peak, since in the above cell have defined parameters for the lower peak\n",
    "test_x = x[0][:int(x[0].shape[0]/2), :]\n",
    "test_y = y[0][:int(x[0].shape[0]/2)][:, None]\n",
    "\n",
    "#Define our Gaussian process regression model\n",
    "gpr = gpflow.models.GPR(data=(test_x, test_y), kernel=kern, mean_function=lineshape)"
   ]
  },
  {
   "cell_type": "code",
   "execution_count": 20,
   "metadata": {},
   "outputs": [
    {
     "data": {
      "text/html": [
       "&lt;gpflow.models.gpr.GPR object at 0x7ff859f4e940&gt;\n",
       "<table>\n",
       "<thead>\n",
       "<tr><th>name                      </th><th>class    </th><th>transform       </th><th>prior  </th><th>trainable  </th><th>shape  </th><th>dtype  </th><th>value     </th></tr>\n",
       "</thead>\n",
       "<tbody>\n",
       "<tr><td>GPR.mean_function.nu      </td><td>Parameter</td><td>Identity        </td><td>       </td><td>False      </td><td>()     </td><td>float64</td><td>13156.28  </td></tr>\n",
       "<tr><td>GPR.mean_function.sw      </td><td>Parameter</td><td>Identity        </td><td>       </td><td>False      </td><td>()     </td><td>float64</td><td>4.799     </td></tr>\n",
       "<tr><td>GPR.mean_function.elower  </td><td>Parameter</td><td>Identity        </td><td>       </td><td>False      </td><td>()     </td><td>float64</td><td>343.75    </td></tr>\n",
       "<tr><td>GPR.mean_function.gamma0  </td><td>Parameter</td><td>Identity        </td><td>       </td><td>True       </td><td>()     </td><td>float64</td><td>0.02      </td></tr>\n",
       "<tr><td>GPR.mean_function.n_gamma0</td><td>Parameter</td><td>Identity        </td><td>       </td><td>False      </td><td>()     </td><td>float64</td><td>0.81      </td></tr>\n",
       "<tr><td>GPR.mean_function.delta0  </td><td>Parameter</td><td>Identity        </td><td>       </td><td>False      </td><td>()     </td><td>float64</td><td>-0.007967 </td></tr>\n",
       "<tr><td>GPR.mean_function.n_delta0</td><td>Parameter</td><td>Identity        </td><td>       </td><td>False      </td><td>()     </td><td>float64</td><td>2.4e-05   </td></tr>\n",
       "<tr><td>GPR.mean_function.sd_gamma</td><td>Parameter</td><td>Identity        </td><td>       </td><td>True       </td><td>()     </td><td>float64</td><td>0.1       </td></tr>\n",
       "<tr><td>GPR.mean_function.n_gamma2</td><td>Parameter</td><td>Identity        </td><td>       </td><td>False      </td><td>()     </td><td>float64</td><td>0.81      </td></tr>\n",
       "<tr><td>GPR.mean_function.sd_delta</td><td>Parameter</td><td>Identity        </td><td>       </td><td>False      </td><td>()     </td><td>float64</td><td>0.0       </td></tr>\n",
       "<tr><td>GPR.mean_function.n_delta2</td><td>Parameter</td><td>Identity        </td><td>       </td><td>False      </td><td>()     </td><td>float64</td><td>0.0       </td></tr>\n",
       "<tr><td>GPR.mean_function.nuVC    </td><td>Parameter</td><td>Identity        </td><td>       </td><td>False      </td><td>()     </td><td>float64</td><td>0.0       </td></tr>\n",
       "<tr><td>GPR.mean_function.n_nuVC  </td><td>Parameter</td><td>Identity        </td><td>       </td><td>False      </td><td>()     </td><td>float64</td><td>1.0       </td></tr>\n",
       "<tr><td>GPR.mean_function.eta     </td><td>Parameter</td><td>Identity        </td><td>       </td><td>False      </td><td>()     </td><td>float64</td><td>0.0       </td></tr>\n",
       "<tr><td>GPR.mean_function.y       </td><td>Parameter</td><td>Identity        </td><td>       </td><td>False      </td><td>()     </td><td>float64</td><td>0.0       </td></tr>\n",
       "<tr><td>GPR.kernel.variance       </td><td>Parameter</td><td>Softplus        </td><td>       </td><td>True       </td><td>()     </td><td>float64</td><td>1.0       </td></tr>\n",
       "<tr><td>GPR.kernel.lengthscales   </td><td>Parameter</td><td>Softplus        </td><td>       </td><td>True       </td><td>(3,)   </td><td>float64</td><td>[1. 1. 1.]</td></tr>\n",
       "<tr><td>GPR.likelihood.variance   </td><td>Parameter</td><td>Softplus + Shift</td><td>       </td><td>True       </td><td>()     </td><td>float64</td><td>1.0       </td></tr>\n",
       "</tbody>\n",
       "</table>"
      ],
      "text/plain": [
       "<gpflow.models.gpr.GPR object at 0x7ff859f4e940>\n",
       "╒════════════════════════════╤═══════════╤══════════════════╤═════════╤═════════════╤═════════╤═════════╤════════════╕\n",
       "│ name                       │ class     │ transform        │ prior   │ trainable   │ shape   │ dtype   │ value      │\n",
       "╞════════════════════════════╪═══════════╪══════════════════╪═════════╪═════════════╪═════════╪═════════╪════════════╡\n",
       "│ GPR.mean_function.nu       │ Parameter │ Identity         │         │ False       │ ()      │ float64 │ 13156.28   │\n",
       "├────────────────────────────┼───────────┼──────────────────┼─────────┼─────────────┼─────────┼─────────┼────────────┤\n",
       "│ GPR.mean_function.sw       │ Parameter │ Identity         │         │ False       │ ()      │ float64 │ 4.799      │\n",
       "├────────────────────────────┼───────────┼──────────────────┼─────────┼─────────────┼─────────┼─────────┼────────────┤\n",
       "│ GPR.mean_function.elower   │ Parameter │ Identity         │         │ False       │ ()      │ float64 │ 343.75     │\n",
       "├────────────────────────────┼───────────┼──────────────────┼─────────┼─────────────┼─────────┼─────────┼────────────┤\n",
       "│ GPR.mean_function.gamma0   │ Parameter │ Identity         │         │ True        │ ()      │ float64 │ 0.02       │\n",
       "├────────────────────────────┼───────────┼──────────────────┼─────────┼─────────────┼─────────┼─────────┼────────────┤\n",
       "│ GPR.mean_function.n_gamma0 │ Parameter │ Identity         │         │ False       │ ()      │ float64 │ 0.81       │\n",
       "├────────────────────────────┼───────────┼──────────────────┼─────────┼─────────────┼─────────┼─────────┼────────────┤\n",
       "│ GPR.mean_function.delta0   │ Parameter │ Identity         │         │ False       │ ()      │ float64 │ -0.007967  │\n",
       "├────────────────────────────┼───────────┼──────────────────┼─────────┼─────────────┼─────────┼─────────┼────────────┤\n",
       "│ GPR.mean_function.n_delta0 │ Parameter │ Identity         │         │ False       │ ()      │ float64 │ 2.4e-05    │\n",
       "├────────────────────────────┼───────────┼──────────────────┼─────────┼─────────────┼─────────┼─────────┼────────────┤\n",
       "│ GPR.mean_function.sd_gamma │ Parameter │ Identity         │         │ True        │ ()      │ float64 │ 0.1        │\n",
       "├────────────────────────────┼───────────┼──────────────────┼─────────┼─────────────┼─────────┼─────────┼────────────┤\n",
       "│ GPR.mean_function.n_gamma2 │ Parameter │ Identity         │         │ False       │ ()      │ float64 │ 0.81       │\n",
       "├────────────────────────────┼───────────┼──────────────────┼─────────┼─────────────┼─────────┼─────────┼────────────┤\n",
       "│ GPR.mean_function.sd_delta │ Parameter │ Identity         │         │ False       │ ()      │ float64 │ 0.0        │\n",
       "├────────────────────────────┼───────────┼──────────────────┼─────────┼─────────────┼─────────┼─────────┼────────────┤\n",
       "│ GPR.mean_function.n_delta2 │ Parameter │ Identity         │         │ False       │ ()      │ float64 │ 0.0        │\n",
       "├────────────────────────────┼───────────┼──────────────────┼─────────┼─────────────┼─────────┼─────────┼────────────┤\n",
       "│ GPR.mean_function.nuVC     │ Parameter │ Identity         │         │ False       │ ()      │ float64 │ 0.0        │\n",
       "├────────────────────────────┼───────────┼──────────────────┼─────────┼─────────────┼─────────┼─────────┼────────────┤\n",
       "│ GPR.mean_function.n_nuVC   │ Parameter │ Identity         │         │ False       │ ()      │ float64 │ 1.0        │\n",
       "├────────────────────────────┼───────────┼──────────────────┼─────────┼─────────────┼─────────┼─────────┼────────────┤\n",
       "│ GPR.mean_function.eta      │ Parameter │ Identity         │         │ False       │ ()      │ float64 │ 0.0        │\n",
       "├────────────────────────────┼───────────┼──────────────────┼─────────┼─────────────┼─────────┼─────────┼────────────┤\n",
       "│ GPR.mean_function.y        │ Parameter │ Identity         │         │ False       │ ()      │ float64 │ 0.0        │\n",
       "├────────────────────────────┼───────────┼──────────────────┼─────────┼─────────────┼─────────┼─────────┼────────────┤\n",
       "│ GPR.kernel.variance        │ Parameter │ Softplus         │         │ True        │ ()      │ float64 │ 1.0        │\n",
       "├────────────────────────────┼───────────┼──────────────────┼─────────┼─────────────┼─────────┼─────────┼────────────┤\n",
       "│ GPR.kernel.lengthscales    │ Parameter │ Softplus         │         │ True        │ (3,)    │ float64 │ [1. 1. 1.] │\n",
       "├────────────────────────────┼───────────┼──────────────────┼─────────┼─────────────┼─────────┼─────────┼────────────┤\n",
       "│ GPR.likelihood.variance    │ Parameter │ Softplus + Shift │         │ True        │ ()      │ float64 │ 1.0        │\n",
       "╘════════════════════════════╧═══════════╧══════════════════╧═════════╧═════════════╧═════════╧═════════╧════════════╛"
      ]
     },
     "execution_count": 20,
     "metadata": {},
     "output_type": "execute_result"
    }
   ],
   "source": [
    "gpr"
   ]
  },
  {
   "cell_type": "code",
   "execution_count": 21,
   "metadata": {},
   "outputs": [
    {
     "name": "stdout",
     "output_type": "stream",
     "text": [
      "(118, 1)\n",
      "(118, 1)\n"
     ]
    },
    {
     "data": {
      "image/png": "[encoded data removed]",
      "text/plain": [
       "<Figure size 432x288 with 1 Axes>"
      ]
     },
     "metadata": {
      "needs_background": "light"
     },
     "output_type": "display_data"
    }
   ],
   "source": [
    "#Predictions before training\n",
    "fig, ax = plt.subplots()\n",
    "\n",
    "mean, var = gpr.predict_f(test_x)\n",
    "print(mean.shape)\n",
    "\n",
    "line = lineshape(test_x)\n",
    "print(line.shape)\n",
    "\n",
    "plt.errorbar(test_x[:, 0], mean.numpy(), yerr=np.sqrt(var.numpy().flatten()))\n",
    "plt.plot(test_x[:, 0], line.numpy())\n",
    "plt.plot(test_x[:, 0], test_y, 'k--')\n",
    "\n",
    "plt.show()"
   ]
  },
  {
   "cell_type": "code",
   "execution_count": 22,
   "metadata": {},
   "outputs": [],
   "source": [
    "opt = gpflow.optimizers.Scipy()\n",
    "opt_logs = opt.minimize(gpr.training_loss, gpr.trainable_variables, options=dict(maxiter=10))"
   ]
  },
  {
   "cell_type": "code",
   "execution_count": 23,
   "metadata": {},
   "outputs": [
    {
     "data": {
      "text/html": [
       "&lt;gpflow.models.gpr.GPR object at 0x7ff859f4e940&gt;\n",
       "<table>\n",
       "<thead>\n",
       "<tr><th>name                      </th><th>class    </th><th>transform       </th><th>prior  </th><th>trainable  </th><th>shape  </th><th>dtype  </th><th>value                             </th></tr>\n",
       "</thead>\n",
       "<tbody>\n",
       "<tr><td>GPR.mean_function.nu      </td><td>Parameter</td><td>Identity        </td><td>       </td><td>False      </td><td>()     </td><td>float64</td><td>13156.28                          </td></tr>\n",
       "<tr><td>GPR.mean_function.sw      </td><td>Parameter</td><td>Identity        </td><td>       </td><td>False      </td><td>()     </td><td>float64</td><td>4.799                             </td></tr>\n",
       "<tr><td>GPR.mean_function.elower  </td><td>Parameter</td><td>Identity        </td><td>       </td><td>False      </td><td>()     </td><td>float64</td><td>343.75                            </td></tr>\n",
       "<tr><td>GPR.mean_function.gamma0  </td><td>Parameter</td><td>Identity        </td><td>       </td><td>True       </td><td>()     </td><td>float64</td><td>0.05918140750688596               </td></tr>\n",
       "<tr><td>GPR.mean_function.n_gamma0</td><td>Parameter</td><td>Identity        </td><td>       </td><td>False      </td><td>()     </td><td>float64</td><td>0.81                              </td></tr>\n",
       "<tr><td>GPR.mean_function.delta0  </td><td>Parameter</td><td>Identity        </td><td>       </td><td>False      </td><td>()     </td><td>float64</td><td>-0.007967                         </td></tr>\n",
       "<tr><td>GPR.mean_function.n_delta0</td><td>Parameter</td><td>Identity        </td><td>       </td><td>False      </td><td>()     </td><td>float64</td><td>2.4e-05                           </td></tr>\n",
       "<tr><td>GPR.mean_function.sd_gamma</td><td>Parameter</td><td>Identity        </td><td>       </td><td>True       </td><td>()     </td><td>float64</td><td>0.3627399099167588                </td></tr>\n",
       "<tr><td>GPR.mean_function.n_gamma2</td><td>Parameter</td><td>Identity        </td><td>       </td><td>False      </td><td>()     </td><td>float64</td><td>0.81                              </td></tr>\n",
       "<tr><td>GPR.mean_function.sd_delta</td><td>Parameter</td><td>Identity        </td><td>       </td><td>False      </td><td>()     </td><td>float64</td><td>0.0                               </td></tr>\n",
       "<tr><td>GPR.mean_function.n_delta2</td><td>Parameter</td><td>Identity        </td><td>       </td><td>False      </td><td>()     </td><td>float64</td><td>0.0                               </td></tr>\n",
       "<tr><td>GPR.mean_function.nuVC    </td><td>Parameter</td><td>Identity        </td><td>       </td><td>False      </td><td>()     </td><td>float64</td><td>0.0                               </td></tr>\n",
       "<tr><td>GPR.mean_function.n_nuVC  </td><td>Parameter</td><td>Identity        </td><td>       </td><td>False      </td><td>()     </td><td>float64</td><td>1.0                               </td></tr>\n",
       "<tr><td>GPR.mean_function.eta     </td><td>Parameter</td><td>Identity        </td><td>       </td><td>False      </td><td>()     </td><td>float64</td><td>0.0                               </td></tr>\n",
       "<tr><td>GPR.mean_function.y       </td><td>Parameter</td><td>Identity        </td><td>       </td><td>False      </td><td>()     </td><td>float64</td><td>0.0                               </td></tr>\n",
       "<tr><td>GPR.kernel.variance       </td><td>Parameter</td><td>Softplus        </td><td>       </td><td>True       </td><td>()     </td><td>float64</td><td>1.3911928515190504                </td></tr>\n",
       "<tr><td>GPR.kernel.lengthscales   </td><td>Parameter</td><td>Softplus        </td><td>       </td><td>True       </td><td>(3,)   </td><td>float64</td><td>[1.23217764 1.00000119 1.        ]</td></tr>\n",
       "<tr><td>GPR.likelihood.variance   </td><td>Parameter</td><td>Softplus + Shift</td><td>       </td><td>True       </td><td>()     </td><td>float64</td><td>0.0002216135650117016             </td></tr>\n",
       "</tbody>\n",
       "</table>"
      ],
      "text/plain": [
       "<gpflow.models.gpr.GPR object at 0x7ff859f4e940>\n",
       "╒════════════════════════════╤═══════════╤══════════════════╤═════════╤═════════════╤═════════╤═════════╤════════════════════════════════════╕\n",
       "│ name                       │ class     │ transform        │ prior   │ trainable   │ shape   │ dtype   │ value                              │\n",
       "╞════════════════════════════╪═══════════╪══════════════════╪═════════╪═════════════╪═════════╪═════════╪════════════════════════════════════╡\n",
       "│ GPR.mean_function.nu       │ Parameter │ Identity         │         │ False       │ ()      │ float64 │ 13156.28                           │\n",
       "├────────────────────────────┼───────────┼──────────────────┼─────────┼─────────────┼─────────┼─────────┼────────────────────────────────────┤\n",
       "│ GPR.mean_function.sw       │ Parameter │ Identity         │         │ False       │ ()      │ float64 │ 4.799                              │\n",
       "├────────────────────────────┼───────────┼──────────────────┼─────────┼─────────────┼─────────┼─────────┼────────────────────────────────────┤\n",
       "│ GPR.mean_function.elower   │ Parameter │ Identity         │         │ False       │ ()      │ float64 │ 343.75                             │\n",
       "├────────────────────────────┼───────────┼──────────────────┼─────────┼─────────────┼─────────┼─────────┼────────────────────────────────────┤\n",
       "│ GPR.mean_function.gamma0   │ Parameter │ Identity         │         │ True        │ ()      │ float64 │ 0.05918140750688596                │\n",
       "├────────────────────────────┼───────────┼──────────────────┼─────────┼─────────────┼─────────┼─────────┼────────────────────────────────────┤\n",
       "│ GPR.mean_function.n_gamma0 │ Parameter │ Identity         │         │ False       │ ()      │ float64 │ 0.81                               │\n",
       "├────────────────────────────┼───────────┼──────────────────┼─────────┼─────────────┼─────────┼─────────┼────────────────────────────────────┤\n",
       "│ GPR.mean_function.delta0   │ Parameter │ Identity         │         │ False       │ ()      │ float64 │ -0.007967                          │\n",
       "├────────────────────────────┼───────────┼──────────────────┼─────────┼─────────────┼─────────┼─────────┼────────────────────────────────────┤\n",
       "│ GPR.mean_function.n_delta0 │ Parameter │ Identity         │         │ False       │ ()      │ float64 │ 2.4e-05                            │\n",
       "├────────────────────────────┼───────────┼──────────────────┼─────────┼─────────────┼─────────┼─────────┼────────────────────────────────────┤\n",
       "│ GPR.mean_function.sd_gamma │ Parameter │ Identity         │         │ True        │ ()      │ float64 │ 0.3627399099167588                 │\n",
       "├────────────────────────────┼───────────┼──────────────────┼─────────┼─────────────┼─────────┼─────────┼────────────────────────────────────┤\n",
       "│ GPR.mean_function.n_gamma2 │ Parameter │ Identity         │         │ False       │ ()      │ float64 │ 0.81                               │\n",
       "├────────────────────────────┼───────────┼──────────────────┼─────────┼─────────────┼─────────┼─────────┼────────────────────────────────────┤\n",
       "│ GPR.mean_function.sd_delta │ Parameter │ Identity         │         │ False       │ ()      │ float64 │ 0.0                                │\n",
       "├────────────────────────────┼───────────┼──────────────────┼─────────┼─────────────┼─────────┼─────────┼────────────────────────────────────┤\n",
       "│ GPR.mean_function.n_delta2 │ Parameter │ Identity         │         │ False       │ ()      │ float64 │ 0.0                                │\n",
       "├────────────────────────────┼───────────┼──────────────────┼─────────┼─────────────┼─────────┼─────────┼────────────────────────────────────┤\n",
       "│ GPR.mean_function.nuVC     │ Parameter │ Identity         │         │ False       │ ()      │ float64 │ 0.0                                │\n",
       "├────────────────────────────┼───────────┼──────────────────┼─────────┼─────────────┼─────────┼─────────┼────────────────────────────────────┤\n",
       "│ GPR.mean_function.n_nuVC   │ Parameter │ Identity         │         │ False       │ ()      │ float64 │ 1.0                                │\n",
       "├────────────────────────────┼───────────┼──────────────────┼─────────┼─────────────┼─────────┼─────────┼────────────────────────────────────┤\n",
       "│ GPR.mean_function.eta      │ Parameter │ Identity         │         │ False       │ ()      │ float64 │ 0.0                                │\n",
       "├────────────────────────────┼───────────┼──────────────────┼─────────┼─────────────┼─────────┼─────────┼────────────────────────────────────┤\n",
       "│ GPR.mean_function.y        │ Parameter │ Identity         │         │ False       │ ()      │ float64 │ 0.0                                │\n",
       "├────────────────────────────┼───────────┼──────────────────┼─────────┼─────────────┼─────────┼─────────┼────────────────────────────────────┤\n",
       "│ GPR.kernel.variance        │ Parameter │ Softplus         │         │ True        │ ()      │ float64 │ 1.3911928515190504                 │\n",
       "├────────────────────────────┼───────────┼──────────────────┼─────────┼─────────────┼─────────┼─────────┼────────────────────────────────────┤\n",
       "│ GPR.kernel.lengthscales    │ Parameter │ Softplus         │         │ True        │ (3,)    │ float64 │ [1.23217764 1.00000119 1.        ] │\n",
       "├────────────────────────────┼───────────┼──────────────────┼─────────┼─────────────┼─────────┼─────────┼────────────────────────────────────┤\n",
       "│ GPR.likelihood.variance    │ Parameter │ Softplus + Shift │         │ True        │ ()      │ float64 │ 0.0002216135650117016              │\n",
       "╘════════════════════════════╧═══════════╧══════════════════╧═════════╧═════════════╧═════════╧═════════╧════════════════════════════════════╛"
      ]
     },
     "execution_count": 23,
     "metadata": {},
     "output_type": "execute_result"
    }
   ],
   "source": [
    "gpr"
   ]
  },
  {
   "cell_type": "code",
   "execution_count": 24,
   "metadata": {},
   "outputs": [
    {
     "name": "stdout",
     "output_type": "stream",
     "text": [
      "(118, 1)\n",
      "(118, 1)\n"
     ]
    },
    {
     "data": {
      "image/png": "[encoded data removed]",
      "text/plain": [
       "<Figure size 432x288 with 1 Axes>"
      ]
     },
     "metadata": {
      "needs_background": "light"
     },
     "output_type": "display_data"
    }
   ],
   "source": [
    "#And look at predictions from training\n",
    "fig, ax = plt.subplots()\n",
    "\n",
    "mean, var = gpr.predict_f(test_x)\n",
    "print(mean.shape)\n",
    "\n",
    "line = lineshape(test_x)\n",
    "print(line.shape)\n",
    "\n",
    "plt.errorbar(test_x[:, 0], mean.numpy(), yerr=np.sqrt(var.numpy().flatten()))\n",
    "plt.plot(test_x[:, 0], line.numpy())\n",
    "plt.plot(test_x[:, 0], test_y, 'k--')\n",
    "\n",
    "plt.show()"
   ]
  },
  {
   "cell_type": "code",
   "execution_count": null,
   "metadata": {},
   "outputs": [],
   "source": []
  }
 ],
 "metadata": {
  "kernelspec": {
   "display_name": "Python [conda env:gpr-active]",
   "language": "python",
   "name": "conda-env-gpr-active-py"
  },
  "language_info": {
   "codemirror_mode": {
    "name": "ipython",
    "version": 3
   },
   "file_extension": ".py",
   "mimetype": "text/x-python",
   "name": "python",
   "nbconvert_exporter": "python",
   "pygments_lexer": "ipython3",
   "version": "3.8.8"
  }
 },
 "nbformat": 4,
 "nbformat_minor": 4
}
