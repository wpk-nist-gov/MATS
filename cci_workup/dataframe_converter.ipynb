{
 "cells": [
  {
   "cell_type": "code",
   "execution_count": 1,
   "metadata": {},
   "outputs": [
    {
     "name": "stdout",
     "output_type": "stream",
     "text": [
      "HAPI version: 1.1.0.9.6\n",
      "To get the most up-to-date version please check http://hitran.org/hapi\n",
      "ATTENTION: Python versions of partition sums from TIPS-2017 are now available in HAPI code\n",
      "\n",
      "           It is free to use HAPI. If you use HAPI in your research or software development,\n",
      "           please cite it using the following reference:\n",
      "           R.V. Kochanov, I.E. Gordon, L.S. Rothman, P. Wcislo, C. Hill, J.S. Wilzewski,\n",
      "           HITRAN Application Programming Interface (HAPI): A comprehensive approach\n",
      "           to working with spectroscopic data, J. Quant. Spectrosc. Radiat. Transfer 177, 15-30 (2016)\n",
      "           DOI: 10.1016/j.jqsrt.2016.03.005\n"
     ]
    }
   ],
   "source": [
    "import glob\n",
    "import numpy as np\n",
    "import gpflow\n",
    "import pandas as pd\n",
    "\n",
    "from lineshape_meanfuncs import LineShape, Etalon, ComboMeanFunc\n",
    "from gp_models import SwitchedGPR\n",
    "\n",
    "import matplotlib.pyplot as plt"
   ]
  },
  {
   "cell_type": "code",
   "execution_count": 23,
   "metadata": {},
   "outputs": [],
   "source": [
    "def lineshape_from_dataframe(frame, limit_factor_dict={}, line_kwargs={}):\n",
    "    nu_list = frame.filter(regex=\"nu_*\\d$\").values.flatten().tolist()\n",
    "    sw_list = frame.filter(regex=\"sw_*\\d$\").values.flatten().tolist()\n",
    "    #Infer number of data sets from highest number associated with nu or sw\n",
    "    n_dsets = len(nu_list)\n",
    "    param_dict = {}\n",
    "    vary_dict = {}\n",
    "    constraint_dict = {}\n",
    "    vary_dict['nu'] = bool(np.sum(frame.filter(regex=\"nu_*\\d_vary$\").values)) #Logical or, if any True, vary all\n",
    "    vary_dict['sw'] = bool(np.sum(frame.filter(regex=\"sw_*\\d_vary$\").values, dtype=bool))\n",
    "    #Loop over parameters in dataframe excluding nu and sw\n",
    "    for name, val in frame.iteritems():\n",
    "        if (name in ['molec_id', 'local_iso_id']) or ('err' in name) or ('sw' in name and not 'scale_factor' in name) or ('nu' in name and not 'VC' in name):\n",
    "            continue\n",
    "        else:\n",
    "            new_name = name.replace('_air', '').lower()\n",
    "            if 'y_296' in new_name:\n",
    "                new_name = new_name.replace('y_296', 'y')\n",
    "            elif 'sw_scale_factor' in new_name:\n",
    "                new_name = new_name.replace('sw_scale_factor', 'sw_scale_fac')\n",
    "            if 'vary' in name:\n",
    "                vary_dict[new_name.replace('_vary', '')] = bool(val.values[0])\n",
    "            else:\n",
    "                param_dict[new_name] = val.values[0]\n",
    "                try:\n",
    "                    constraint_type, constraint_info = limit_factor_dict[name]\n",
    "                    if constraint_type == 'magnitude':\n",
    "                        constraint_dict[new_name] = (val.values[0] - constraint_info,\n",
    "                                                     val.values[0] + constraint_info)\n",
    "                    elif constraint_type == 'factor':\n",
    "                        constraint_dict[new_name] = (val.values[0] / constraint_info,\n",
    "                                                     val.values[0] * constraint_info)\n",
    "                except KeyError:\n",
    "                    pass\n",
    "    #Create our lineshape function\n",
    "    lineshape = LineShape(frame['molec_id'].values[0], frame['local_iso_id'].values[0],\n",
    "                          n_data_sets=n_dsets,\n",
    "                          nu=nu_list,\n",
    "                          sw=sw_list,\n",
    "                          **param_dict,\n",
    "                          **line_kwargs,\n",
    "                          constraint_dict=constraint_dict\n",
    "                          )\n",
    "    #Freeze somethings and let others vary\n",
    "    for name, val in vary_dict.items():\n",
    "        #try:\n",
    "        gpflow.set_trainable(getattr(lineshape, name), val)\n",
    "        #except AttributeError:\n",
    "        #    pass\n",
    "    return lineshape\n"
   ]
  },
  {
   "cell_type": "code",
   "execution_count": 24,
   "metadata": {},
   "outputs": [],
   "source": [
    "lineparam_list = pd.read_csv('Parameter_LineList.csv', index_col=0)"
   ]
  },
  {
   "cell_type": "code",
   "execution_count": 25,
   "metadata": {},
   "outputs": [],
   "source": [
    "line = lineshape_from_dataframe(lineparam_list[10:11],\n",
    "                                limit_factor_dict={'SD_gamma':('factor', 2.0),\n",
    "                                                   'nu':('magnitude', 0.1),\n",
    "                                                   'sw':('limit', 2.0)},\n",
    "                                line_kwargs={'cutoff':25})"
   ]
  },
  {
   "cell_type": "code",
   "execution_count": 26,
   "metadata": {},
   "outputs": [
    {
     "data": {
      "text/html": [
       "&lt;lineshape_meanfuncs.LineShape object at 0x7ff1f60a9040&gt;\n",
       "<table>\n",
       "<thead>\n",
       "<tr><th>name              </th><th>class    </th><th>transform  </th><th>prior  </th><th>trainable  </th><th>shape  </th><th>dtype  </th><th>value                                             </th></tr>\n",
       "</thead>\n",
       "<tbody>\n",
       "<tr><td>LineShape.nu      </td><td>Parameter</td><td>Identity   </td><td>       </td><td>True       </td><td>(4,)   </td><td>float64</td><td>[13156.28028912, 13156.28029172, 13156.28030889...</td></tr>\n",
       "<tr><td>LineShape.sw      </td><td>Parameter</td><td>Identity   </td><td>       </td><td>True       </td><td>(4,)   </td><td>float64</td><td>[4.73249416, 4.74980401, 4.74235728...            </td></tr>\n",
       "<tr><td>LineShape.gamma0  </td><td>Parameter</td><td>Identity   </td><td>       </td><td>True       </td><td>()     </td><td>float64</td><td>0.0448705149862343                                </td></tr>\n",
       "<tr><td>LineShape.delta0  </td><td>Parameter</td><td>Identity   </td><td>       </td><td>False      </td><td>()     </td><td>float64</td><td>-0.007967                                         </td></tr>\n",
       "<tr><td>LineShape.sd_gamma</td><td>Parameter</td><td>Identity   </td><td>       </td><td>True       </td><td>()     </td><td>float64</td><td>0.1123989299184388                                </td></tr>\n",
       "<tr><td>LineShape.sd_delta</td><td>Parameter</td><td>Identity   </td><td>       </td><td>False      </td><td>()     </td><td>float64</td><td>0.0                                               </td></tr>\n",
       "<tr><td>LineShape.nuvc    </td><td>Parameter</td><td>Identity   </td><td>       </td><td>False      </td><td>()     </td><td>float64</td><td>0.0                                               </td></tr>\n",
       "<tr><td>LineShape.eta     </td><td>Parameter</td><td>Identity   </td><td>       </td><td>False      </td><td>()     </td><td>float64</td><td>0.0                                               </td></tr>\n",
       "<tr><td>LineShape.y       </td><td>Parameter</td><td>Identity   </td><td>       </td><td>False      </td><td>()     </td><td>float64</td><td>0.0                                               </td></tr>\n",
       "</tbody>\n",
       "</table>"
      ],
      "text/plain": [
       "<lineshape_meanfuncs.LineShape object at 0x7ff1f60a9040>\n",
       "╒════════════════════╤═══════════╤═════════════╤═════════╤═════════════╤═════════╤═════════╤════════════════════════════════════════════════════╕\n",
       "│ name               │ class     │ transform   │ prior   │ trainable   │ shape   │ dtype   │ value                                              │\n",
       "╞════════════════════╪═══════════╪═════════════╪═════════╪═════════════╪═════════╪═════════╪════════════════════════════════════════════════════╡\n",
       "│ LineShape.nu       │ Parameter │ Identity    │         │ True        │ (4,)    │ float64 │ [13156.28028912, 13156.28029172, 13156.28030889... │\n",
       "├────────────────────┼───────────┼─────────────┼─────────┼─────────────┼─────────┼─────────┼────────────────────────────────────────────────────┤\n",
       "│ LineShape.sw       │ Parameter │ Identity    │         │ True        │ (4,)    │ float64 │ [4.73249416, 4.74980401, 4.74235728...             │\n",
       "├────────────────────┼───────────┼─────────────┼─────────┼─────────────┼─────────┼─────────┼────────────────────────────────────────────────────┤\n",
       "│ LineShape.gamma0   │ Parameter │ Identity    │         │ True        │ ()      │ float64 │ 0.0448705149862343                                 │\n",
       "├────────────────────┼───────────┼─────────────┼─────────┼─────────────┼─────────┼─────────┼────────────────────────────────────────────────────┤\n",
       "│ LineShape.delta0   │ Parameter │ Identity    │         │ False       │ ()      │ float64 │ -0.007967                                          │\n",
       "├────────────────────┼───────────┼─────────────┼─────────┼─────────────┼─────────┼─────────┼────────────────────────────────────────────────────┤\n",
       "│ LineShape.sd_gamma │ Parameter │ Identity    │         │ True        │ ()      │ float64 │ 0.1123989299184388                                 │\n",
       "├────────────────────┼───────────┼─────────────┼─────────┼─────────────┼─────────┼─────────┼────────────────────────────────────────────────────┤\n",
       "│ LineShape.sd_delta │ Parameter │ Identity    │         │ False       │ ()      │ float64 │ 0.0                                                │\n",
       "├────────────────────┼───────────┼─────────────┼─────────┼─────────────┼─────────┼─────────┼────────────────────────────────────────────────────┤\n",
       "│ LineShape.nuvc     │ Parameter │ Identity    │         │ False       │ ()      │ float64 │ 0.0                                                │\n",
       "├────────────────────┼───────────┼─────────────┼─────────┼─────────────┼─────────┼─────────┼────────────────────────────────────────────────────┤\n",
       "│ LineShape.eta      │ Parameter │ Identity    │         │ False       │ ()      │ float64 │ 0.0                                                │\n",
       "├────────────────────┼───────────┼─────────────┼─────────┼─────────────┼─────────┼─────────┼────────────────────────────────────────────────────┤\n",
       "│ LineShape.y        │ Parameter │ Identity    │         │ False       │ ()      │ float64 │ 0.0                                                │\n",
       "╘════════════════════╧═══════════╧═════════════╧═════════╧═════════════╧═════════╧═════════╧════════════════════════════════════════════════════╛"
      ]
     },
     "execution_count": 26,
     "metadata": {},
     "output_type": "execute_result"
    }
   ],
   "source": [
    "line"
   ]
  },
  {
   "cell_type": "code",
   "execution_count": null,
   "metadata": {},
   "outputs": [],
   "source": []
  }
 ],
 "metadata": {
  "kernelspec": {
   "display_name": "Python [conda env:thermoextrap-env]",
   "language": "python",
   "name": "conda-env-thermoextrap-env-py"
  },
  "language_info": {
   "codemirror_mode": {
    "name": "ipython",
    "version": 3
   },
   "file_extension": ".py",
   "mimetype": "text/x-python",
   "name": "python",
   "nbconvert_exporter": "python",
   "pygments_lexer": "ipython3",
   "version": "3.8.6"
  }
 },
 "nbformat": 4,
 "nbformat_minor": 4
}
