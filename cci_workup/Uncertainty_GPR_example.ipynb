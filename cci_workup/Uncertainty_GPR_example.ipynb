{
 "cells": [
  {
   "cell_type": "code",
   "execution_count": 19,
   "metadata": {},
   "outputs": [],
   "source": [
    "import numpy as np\n",
    "import tensorflow as tf\n",
    "import gpflow\n",
    "\n",
    "import matplotlib.pyplot as plt"
   ]
  },
  {
   "cell_type": "code",
   "execution_count": 20,
   "metadata": {},
   "outputs": [],
   "source": [
    "#First, let's define a \"mean\" function that we will add noise (and other stuff) to\n",
    "\n",
    "#Working with sum of Lorentzians with reference widths changed based on T and P\n",
    "def lorentzian(x, x0, w):\n",
    "    numer = 0.5*w\n",
    "    denom = (x - x0)**2 + (0.5*w)**2\n",
    "    return (1.0/np.pi)*numer/denom\n",
    "\n",
    "\n",
    "#Need to make the mean function a class that follows GPFlow's style\n",
    "class MeanFunc(gpflow.mean_functions.MeanFunction):\n",
    "    \n",
    "    def __init__(self, locs=[-2.0, 0.0, 5.0], widths=[0.5, 1.0, 4.0]):\n",
    "        self.locs = gpflow.Parameter(locs, dtype=tf.float64, name='lorentz_loc')\n",
    "        self.widths = gpflow.Parameter(widths, dtype=tf.float64, name='lorentz_width')\n",
    "\n",
    "    def __call__(self, xTP):\n",
    "        #First column is x, next is T, last is P\n",
    "        xTP = tf.cast(xTP, tf.float64)\n",
    "        x = xTP[:, :1]\n",
    "        T = xTP[:, 1:2]\n",
    "        P = xTP[:, 2:]\n",
    "        widths = self.widths*tf.math.exp(-1.0/T)\n",
    "        widths *= tf.math.exp(P)\n",
    "        lineshapes = lorentzian(tf.reshape(x, (-1, 1)), self.locs, widths)\n",
    "        line_sum = tf.reduce_sum(lineshapes, axis=1)\n",
    "        return tf.reshape(line_sum, (-1, 1))\n",
    "\n",
    "\n",
    "#Now we also need a noise/shift/extra stuff function, just for testing\n",
    "def create_noise(x):\n",
    "    rng = np.random.default_rng()\n",
    "    min_x = np.min(x)\n",
    "    max_x = np.max(x)\n",
    "    shift = 0.1*(max_x - min_x) * rng.random()\n",
    "    base = 0.5*np.sin((x + shift) * (2.0*np.pi/(max_x - min_x)))\n",
    "    noise = rng.standard_normal(base.shape[0]) * 0.1 * abs(base)\n",
    "    return base + noise\n",
    "\n"
   ]
  },
  {
   "cell_type": "code",
   "execution_count": 38,
   "metadata": {},
   "outputs": [],
   "source": [
    "rng = np.random.default_rng(10)"
   ]
  },
  {
   "cell_type": "code",
   "execution_count": 21,
   "metadata": {},
   "outputs": [
    {
     "data": {
      "image/png": "[encoded data removed]",
      "text/plain": [
       "<Figure size 432x288 with 3 Axes>"
      ]
     },
     "metadata": {
      "needs_background": "light"
     },
     "output_type": "display_data"
    }
   ],
   "source": [
    "x = np.linspace(-10.0, 10.0, 100)\n",
    "T = 1.0\n",
    "P = 1.0\n",
    "x_in = np.vstack([x, T*np.ones(x.shape[0]), P*np.ones(x.shape[0])]).T\n",
    "mf = MeanFunc()\n",
    "\n",
    "fig, ax = plt.subplots(3)\n",
    "ax[0].plot(x, mf(x_in))\n",
    "ax[1].plot(x, create_noise(x))\n",
    "ax[2].plot(x, mf(x_in) + create_noise(x)[:, None])\n",
    "plt.show()"
   ]
  },
  {
   "cell_type": "code",
   "execution_count": 64,
   "metadata": {},
   "outputs": [],
   "source": [
    "#We need to create a kernel to use and a mean function\n",
    "#Note that the parameters in the mean function defined here WILL BE MODIFIED by the fitting procedure\n",
    "kern = gpflow.kernels.SquaredExponential(lengthscales=[1.0, 1.0, 1.0])\n",
    "mf = MeanFunc()\n",
    "\n",
    "#We want to generate data with columns of x, T, P and noise to go with it\n",
    "x = np.linspace(-10.0, 10.0, 100)\n",
    "temps = np.array([1.0, 0.1, 2.0])\n",
    "pressures = np.array([1.0, 1.0, 0.5])\n",
    "x_dat = []\n",
    "noise = []\n",
    "for i in range(temps.shape[0]):\n",
    "    x_dat.append(np.vstack([x, temps[i]*np.ones(x.shape[0]), pressures[i]*np.ones(x.shape[0])]).T)\n",
    "    noise.append(create_noise(x))\n",
    "x_dat = np.vstack(x_dat)\n",
    "#With x data, can just call the mean function (lazily letting initial parameters be the reference)\n",
    "orig_y = mf(x_dat)\n",
    "orig_noise = np.hstack(noise)[:, None]\n",
    "y_dat = orig_y + orig_noise\n",
    "\n",
    "#Define our Gaussian process regression model\n",
    "gpr = gpflow.models.GPR(data=(x_dat, y_dat), kernel=kern, mean_function=mf)"
   ]
  },
  {
   "cell_type": "code",
   "execution_count": 68,
   "metadata": {},
   "outputs": [
    {
     "data": {
      "text/plain": [
       "(<tf.Variable 'Variable:0' shape=(3,) dtype=float64, numpy=array([0.54132485, 0.54132485, 0.54132485])>,\n",
       " <tf.Variable 'Variable:0' shape=() dtype=float64, numpy=0.5413248546129181>,\n",
       " <tf.Variable 'Variable:0' shape=() dtype=float64, numpy=0.5413232726357509>,\n",
       " <tf.Variable 'lorentz_loc:0' shape=(3,) dtype=float64, numpy=array([-2.,  0.,  5.])>,\n",
       " <tf.Variable 'lorentz_width:0' shape=(3,) dtype=float64, numpy=array([0.5, 1. , 4. ])>)"
      ]
     },
     "execution_count": 68,
     "metadata": {},
     "output_type": "execute_result"
    }
   ],
   "source": [
    "#See the variables in our model\n",
    "#For the mean function, we just have the 'lorenz_*' variables\n",
    "#The other variables define the parameters of the noise and covariance matrix\n",
    "#Note that the covariance matrix will have three lengthscales, 1 each for x, T, and P\n",
    "#This assumes that these covariances vary INDEPENDENTLY in these directions\n",
    "gpr.trainable_variables"
   ]
  },
  {
   "cell_type": "code",
   "execution_count": 69,
   "metadata": {},
   "outputs": [],
   "source": [
    "#Perform optimization (it's L-BFGS-B in scipy by default, but could also use Tensorflow, etc.)\n",
    "opt = gpflow.optimizers.Scipy()\n",
    "opt_logs = opt.minimize(gpr.training_loss, gpr.trainable_variables, options=dict(maxiter=100))"
   ]
  },
  {
   "cell_type": "code",
   "execution_count": 70,
   "metadata": {},
   "outputs": [
    {
     "data": {
      "text/html": [
       "&lt;gpflow.models.gpr.GPR object at 0x7fd003f6e880&gt;\n",
       "<table>\n",
       "<thead>\n",
       "<tr><th>name                    </th><th>class    </th><th>transform       </th><th>prior  </th><th>trainable  </th><th>shape  </th><th>dtype  </th><th>value                                </th></tr>\n",
       "</thead>\n",
       "<tbody>\n",
       "<tr><td>GPR.mean_function.locs  </td><td>Parameter</td><td>Identity        </td><td>       </td><td>True       </td><td>(3,)   </td><td>float64</td><td>[-2.0021793  -0.00653901  4.9894986 ]</td></tr>\n",
       "<tr><td>GPR.mean_function.widths</td><td>Parameter</td><td>Identity        </td><td>       </td><td>True       </td><td>(3,)   </td><td>float64</td><td>[0.49938995 1.01731589 3.84231578]   </td></tr>\n",
       "<tr><td>GPR.kernel.variance     </td><td>Parameter</td><td>Softplus        </td><td>       </td><td>True       </td><td>()     </td><td>float64</td><td>0.31177011715209735                  </td></tr>\n",
       "<tr><td>GPR.kernel.lengthscales </td><td>Parameter</td><td>Softplus        </td><td>       </td><td>True       </td><td>(3,)   </td><td>float64</td><td>[6.50669167 3.36701506 1.26086669]   </td></tr>\n",
       "<tr><td>GPR.likelihood.variance </td><td>Parameter</td><td>Softplus + Shift</td><td>       </td><td>True       </td><td>()     </td><td>float64</td><td>0.0014085554771029437                </td></tr>\n",
       "</tbody>\n",
       "</table>"
      ],
      "text/plain": [
       "<gpflow.models.gpr.GPR object at 0x7fd003f6e880>\n",
       "╒══════════════════════════╤═══════════╤══════════════════╤═════════╤═════════════╤═════════╤═════════╤═══════════════════════════════════════╕\n",
       "│ name                     │ class     │ transform        │ prior   │ trainable   │ shape   │ dtype   │ value                                 │\n",
       "╞══════════════════════════╪═══════════╪══════════════════╪═════════╪═════════════╪═════════╪═════════╪═══════════════════════════════════════╡\n",
       "│ GPR.mean_function.locs   │ Parameter │ Identity         │         │ True        │ (3,)    │ float64 │ [-2.0021793  -0.00653901  4.9894986 ] │\n",
       "├──────────────────────────┼───────────┼──────────────────┼─────────┼─────────────┼─────────┼─────────┼───────────────────────────────────────┤\n",
       "│ GPR.mean_function.widths │ Parameter │ Identity         │         │ True        │ (3,)    │ float64 │ [0.49938995 1.01731589 3.84231578]    │\n",
       "├──────────────────────────┼───────────┼──────────────────┼─────────┼─────────────┼─────────┼─────────┼───────────────────────────────────────┤\n",
       "│ GPR.kernel.variance      │ Parameter │ Softplus         │         │ True        │ ()      │ float64 │ 0.31177011715209735                   │\n",
       "├──────────────────────────┼───────────┼──────────────────┼─────────┼─────────────┼─────────┼─────────┼───────────────────────────────────────┤\n",
       "│ GPR.kernel.lengthscales  │ Parameter │ Softplus         │         │ True        │ (3,)    │ float64 │ [6.50669167 3.36701506 1.26086669]    │\n",
       "├──────────────────────────┼───────────┼──────────────────┼─────────┼─────────────┼─────────┼─────────┼───────────────────────────────────────┤\n",
       "│ GPR.likelihood.variance  │ Parameter │ Softplus + Shift │         │ True        │ ()      │ float64 │ 0.0014085554771029437                 │\n",
       "╘══════════════════════════╧═══════════╧══════════════════╧═════════╧═════════════╧═════════╧═════════╧═══════════════════════════════════════╛"
      ]
     },
     "execution_count": 70,
     "metadata": {},
     "output_type": "execute_result"
    }
   ],
   "source": [
    "#Look at the parameters again\n",
    "gpr"
   ]
  },
  {
   "cell_type": "code",
   "execution_count": 71,
   "metadata": {},
   "outputs": [
    {
     "data": {
      "text/plain": [
       "(<tf.Variable 'Variable:0' shape=(3,) dtype=float64, numpy=array([6.50519714, 3.33191371, 0.92761765])>,\n",
       " <tf.Variable 'Variable:0' shape=() dtype=float64, numpy=-1.005557358410561>,\n",
       " <tf.Variable 'Variable:0' shape=() dtype=float64, numpy=-6.565196923089675>,\n",
       " <tf.Variable 'lorentz_loc:0' shape=(3,) dtype=float64, numpy=array([-2.0021793 , -0.00653901,  4.9894986 ])>,\n",
       " <tf.Variable 'lorentz_width:0' shape=(3,) dtype=float64, numpy=array([0.49938995, 1.01731589, 3.84231578])>)"
      ]
     },
     "execution_count": 71,
     "metadata": {},
     "output_type": "execute_result"
    }
   ],
   "source": [
    "gpr.trainable_variables"
   ]
  },
  {
   "cell_type": "code",
   "execution_count": 72,
   "metadata": {},
   "outputs": [
    {
     "data": {
      "text/plain": [
       "[<matplotlib.lines.Line2D at 0x7fcf90166b50>]"
      ]
     },
     "execution_count": 72,
     "metadata": {},
     "output_type": "execute_result"
    },
    {
     "data": {
      "image/png": "[encoded data removed]",
      "text/plain": [
       "<Figure size 432x288 with 3 Axes>"
      ]
     },
     "metadata": {
      "needs_background": "light"
     },
     "output_type": "display_data"
    }
   ],
   "source": [
    "#Check out predictions\n",
    "#Note that predict_f returns noiseless estimates, which is probably what we want\n",
    "#But we also get variances in our estimates\n",
    "#By default the full model is return, which is the mean function added to the rest\n",
    "#We look at the full fit in the top panel, just the mean function in the middle, and just the \"noise\" in the bottom\n",
    "#Remember, the parameters for our mean function have been changed by optimization (see above)\n",
    "\n",
    "fig, ax = plt.subplots(3)\n",
    "\n",
    "test_x = x_dat[:x.shape[0], :]\n",
    "test_y = y_dat[:x.shape[0]]\n",
    "\n",
    "pred_mean, pred_var = gpr.predict_f(test_x)\n",
    "ax[0].errorbar(test_x[:, :1], pred_mean, yerr=np.sqrt(np.squeeze(pred_var)))\n",
    "ax[0].plot(test_x[:, :1], test_y, 'k--')\n",
    "\n",
    "ax[1].plot(test_x[:, :1], mf(test_x))\n",
    "ax[1].plot(test_x[:, :1], orig_y[:x.shape[0]], 'k--')\n",
    "\n",
    "ax[2].plot(test_x[:, :1], pred_mean - mf(test_x))\n",
    "ax[2].plot(test_x[:, :1], orig_noise[:x.shape[0]], 'k--')"
   ]
  },
  {
   "cell_type": "code",
   "execution_count": null,
   "metadata": {},
   "outputs": [],
   "source": []
  }
 ],
 "metadata": {
  "kernelspec": {
   "display_name": "Python [conda env:MATS-env]",
   "language": "python",
   "name": "conda-env-MATS-env-py"
  },
  "language_info": {
   "codemirror_mode": {
    "name": "ipython",
    "version": 3
   },
   "file_extension": ".py",
   "mimetype": "text/x-python",
   "name": "python",
   "nbconvert_exporter": "python",
   "pygments_lexer": "ipython3",
   "version": "3.8.8"
  },
  "toc": {
   "base_numbering": 1,
   "nav_menu": {},
   "number_sections": true,
   "sideBar": true,
   "skip_h1_title": false,
   "title_cell": "Table of Contents",
   "title_sidebar": "Contents",
   "toc_cell": false,
   "toc_position": {},
   "toc_section_display": true,
   "toc_window_display": false
  }
 },
 "nbformat": 4,
 "nbformat_minor": 4
}
